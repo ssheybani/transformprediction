{
 "cells": [
  {
   "cell_type": "markdown",
   "metadata": {
    "colab_type": "text",
    "execution": {},
    "id": "view-in-github"
   },
   "source": [
    "<a href=\"https://colab.research.google.com/github/NeuromatchAcademy/course-content-dl/blob/main/tutorials/W3D1_UnsupervisedAndSelfSupervisedLearning/W3D1_Tutorial1.ipynb\" target=\"_parent\"><img src=\"https://colab.research.google.com/assets/colab-badge.svg\" alt=\"Open In Colab\"/></a> &nbsp; <a href=\"https://kaggle.com/kernels/welcome?src=https://raw.githubusercontent.com/NeuromatchAcademy/course-content-dl/main/tutorials/W3D1_UnsupervisedAndSelfSupervisedLearning/W3D1_Tutorial1.ipynb\" target=\"_parent\"><img src=\"https://kaggle.com/static/images/open-in-kaggle.svg\" alt=\"Open in Kaggle\"/></a>"
   ]
  },
  {
   "cell_type": "markdown",
   "metadata": {
    "execution": {}
   },
   "source": [
    "# Tutorial 1: Un/Self-supervised learning methods\n",
    "\n",
    "**Week 3, Day 1: Unsupervised and self-supervised learning**\n",
    "\n",
    "**By Neuromatch Academy**\n",
    "\n",
    "__Content creators:__ Arna Ghosh, Colleen Gillon, Tim Lillicrap, Blake Richards\n",
    "\n",
    "__Content reviewers:__ Atnafu Lambebo, Hadi Vafaei, Khalid Almubarak, Melvin Selim Atay, Kelson Shilling-Scrivo\n",
    "\n",
    "__Content editors:__ Anoop Kulkarni, Spiros Chalvis\n",
    "\n",
    "__Production editors:__ Deepak Raya, Spiros Chalvis"
   ]
  },
  {
   "cell_type": "markdown",
   "metadata": {
    "execution": {}
   },
   "source": [
    "**Our 2021 Sponsors, including Presenting Sponsor Facebook Reality Labs**\n",
    "\n",
    "<p align='center'><img src='https://github.com/NeuromatchAcademy/widgets/blob/master/sponsors.png?raw=True'/></p>"
   ]
  },
  {
   "cell_type": "markdown",
   "metadata": {
    "execution": {}
   },
   "source": [
    "---\n",
    "# Tutorial Objectives\n",
    "\n",
    "In this tutorial, you will learn about the importance of learning good representations of data.\n",
    "\n",
    "Specific objectives for this tutorial:\n",
    "*   Train logistic regressions (A) directly on input data and (B) on representations learned from the data.\n",
    "*   Compare the classification performances achieved by the different networks.\n",
    "*   Compare the representations learned by the different networks.\n",
    "*   Identify the advantages of self-supervised learning over supervised or traditional unsupervised methods."
   ]
  },
  {
   "cell_type": "code",
   "execution_count": null,
   "metadata": {
    "cellView": "form",
    "execution": {}
   },
   "outputs": [],
   "source": [
    "# @title Tutorial slides\n",
    "\n",
    "# @markdown These are the slides for the videos in this tutorial\n",
    "\n",
    "# @markdown If you want to locally download the slides, click [here](https://osf.io/wvt34/download)\n",
    "from IPython.display import IFrame\n",
    "IFrame(src=f\"https://mfr.ca-1.osf.io/render?url=https://osf.io/wvt34/?direct%26mode=render%26action=download%26mode=render\", width=854, height=480)"
   ]
  },
  {
   "cell_type": "markdown",
   "metadata": {
    "execution": {}
   },
   "source": [
    "---\n",
    "# Setup"
   ]
  },
  {
   "cell_type": "code",
   "execution_count": null,
   "metadata": {
    "cellView": "form",
    "execution": {}
   },
   "outputs": [],
   "source": [
    "# @title Install dependencies\n",
    "\n",
    "# @markdown Download dataset, modules, and files needed for the tutorial from GitHub.\n",
    "\n",
    "# @markdown Download from OSF. Original repo: https://github.com/colleenjg/neuromatch_ssl_tutorial.git\n",
    "\n",
    "import os, sys, importlib\n",
    "\n",
    "REPO_PATH = \"neuromatch_ssl_tutorial\"\n",
    "download_str = \"Downloading\"\n",
    "if os.path.exists(REPO_PATH):\n",
    "  download_str = \"Redownloading\"\n",
    "  !rm -rf $REPO_PATH\n",
    "\n",
    "# download from github repo directly\n",
    "#!git clone git://github.com/colleenjg/neuromatch_ssl_tutorial.git --quiet\n",
    "\n",
    "from io import BytesIO\n",
    "from urllib.request import urlopen\n",
    "from zipfile import ZipFile\n",
    "\n",
    "zipurl = 'https://osf.io/smqvg/download'\n",
    "print(f\"{download_str} and unzipping the file... Please wait.\")\n",
    "with urlopen(zipurl) as zipresp:\n",
    "  with ZipFile(BytesIO(zipresp.read())) as zfile:\n",
    "    zfile.extractall()\n",
    "print(\"Download completed!\")\n",
    "\n",
    "\n",
    "# @markdown Import modules designed for use in this tutorials\n",
    "from neuromatch_ssl_tutorial.modules import data, load, models, plot_util\n",
    "from neuromatch_ssl_tutorial.modules import data, load, models, plot_util\n",
    "importlib.reload(data);\n",
    "importlib.reload(load);\n",
    "importlib.reload(models)\n",
    "importlib.reload(plot_util);\n",
    "\n",
    "\n",
    "!pip install git+https://github.com/NeuromatchAcademy/evaltools --quiet\n",
    "from evaltools.airtable import AirtableForm\n",
    "\n",
    "# generate airtable form\n",
    "atform = AirtableForm('appn7VdPRseSoMXEG','W3D1_T1','https://portal.neuromatchacademy.org/api/redirect/to/47de6f8f-1265-4a74-88c4-7dfa6e64b35a')"
   ]
  },
  {
   "cell_type": "code",
   "execution_count": null,
   "metadata": {
    "execution": {}
   },
   "outputs": [],
   "source": [
    "# Imports\n",
    "import torch\n",
    "import torchvision\n",
    "import numpy as np\n",
    "import matplotlib.pyplot as plt"
   ]
  },
  {
   "cell_type": "code",
   "execution_count": null,
   "metadata": {
    "cellView": "form",
    "execution": {}
   },
   "outputs": [],
   "source": [
    "# @title Figure settings\n",
    "import ipywidgets as widgets       # interactive display\n",
    "#%matplotlib inline\n",
    "%config InlineBackend.figure_format = 'retina'\n",
    "plt.style.use(\"https://raw.githubusercontent.com/NeuromatchAcademy/content-creation/main/nma.mplstyle\")\n",
    "\n",
    "plt.rc('axes', unicode_minus=False) # to ensure negatives render correctly with xkcd style\n",
    "import warnings\n",
    "warnings.filterwarnings(\"ignore\")"
   ]
  },
  {
   "cell_type": "code",
   "execution_count": null,
   "metadata": {
    "cellView": "form",
    "execution": {}
   },
   "outputs": [],
   "source": [
    "# @title Plotting functions\n",
    "\n",
    "# @markdown Function to plot a histogram of RSM values: `plot_rsm_histogram(rsms, colors)`\n",
    "def plot_rsm_histogram(rsms, colors, labels=None, nbins=100):\n",
    "  fig, ax = plt.subplots(1)\n",
    "  ax.set_title(\"Histogram of RSM values\", y=1.05)\n",
    "\n",
    "  min_val = np.min([np.nanmin(rsm) for rsm in rsms])\n",
    "  max_val = np.max([np.nanmax(rsm) for rsm in rsms])\n",
    "\n",
    "  bins = np.linspace(min_val, max_val, nbins+1)\n",
    "\n",
    "  if labels is None:\n",
    "    labels = [labels] * len(rsms)\n",
    "  elif len(labels) != len(rsms):\n",
    "    raise ValueError(\"If providing labels, must provide as many as RSMs.\")\n",
    "\n",
    "  if len(rsms) != len(colors):\n",
    "    raise ValueError(\"Must provide as may colors as RSMs.\")\n",
    "\n",
    "  for r, rsm in enumerate(rsms):\n",
    "    ax.hist(\n",
    "        rsm.reshape(-1), bins, density=True, alpha=0.4,\n",
    "        color=colors[r], label=labels[r]\n",
    "        )\n",
    "  ax.axvline(x=0, ls=\"dashed\", alpha=0.6, color=\"k\")\n",
    "  ax.set_ylabel(\"Density\")\n",
    "  ax.set_xlabel(\"Similarity values\")\n",
    "  ax.legend()\n",
    "  plt.show()"
   ]
  },
  {
   "cell_type": "code",
   "execution_count": null,
   "metadata": {
    "cellView": "form",
    "execution": {}
   },
   "outputs": [],
   "source": [
    "# @title Helper functions\n",
    "\n",
    "from IPython.display import display, Image # to visualize images\n",
    "\n",
    "# @markdown Function to set test custom torch RSM function: `test_custom_torch_RSM_fct()`\n",
    "def test_custom_torch_RSM_fct(custom_torch_RSM_fct):\n",
    "  rand_feats = torch.rand(100, 1000)\n",
    "  RSM_custom = custom_torch_RSM_fct(rand_feats)\n",
    "  RSM_ground_truth = data.calculate_torch_RSM(rand_feats)\n",
    "\n",
    "  if torch.allclose(RSM_custom, RSM_ground_truth, equal_nan=True):\n",
    "    print(\"custom_torch_RSM_fct() is correctly implemented.\")\n",
    "  else:\n",
    "    print(\"custom_torch_RSM_fct() is NOT correctly implemented.\")\n",
    "\n",
    "\n",
    "# @markdown Function to set test custom contrastive loss function: `test_custom_contrastive_loss_fct()`\n",
    "def test_custom_contrastive_loss_fct(custom_simclr_contrastive_loss):\n",
    "  rand_proj_feat1 = torch.rand(100, 1000)\n",
    "  rand_proj_feat2 = torch.rand(100, 1000)\n",
    "  loss_custom = custom_simclr_contrastive_loss(rand_proj_feat1, rand_proj_feat2)\n",
    "  loss_ground_truth = models.contrastive_loss(rand_proj_feat1,rand_proj_feat2)\n",
    "\n",
    "  if torch.allclose(loss_custom, loss_ground_truth):\n",
    "    print(\"custom_simclr_contrastive_loss() is correctly implemented.\")\n",
    "  else:\n",
    "    print(\"custom_simclr_contrastive_loss() is NOT correctly implemented.\")"
   ]
  },
  {
   "cell_type": "code",
   "execution_count": null,
   "metadata": {
    "cellView": "form",
    "execution": {}
   },
   "outputs": [],
   "source": [
    "#@title Set random seed\n",
    "\n",
    "#@markdown Executing `set_seed(seed=seed)` you are setting the seed\n",
    "\n",
    "# for DL its critical to set the random seed so that students can have a\n",
    "# baseline to compare their results to expected results.\n",
    "# Read more here: https://pytorch.org/docs/stable/notes/randomness.html\n",
    "\n",
    "# Call `set_seed` function in the exercises to ensure reproducibility.\n",
    "import random\n",
    "import torch\n",
    "\n",
    "def set_seed(seed=None, seed_torch=True):\n",
    "  if seed is None:\n",
    "    seed = np.random.choice(2 ** 32)\n",
    "  random.seed(seed)\n",
    "  np.random.seed(seed)\n",
    "  if seed_torch:\n",
    "    torch.manual_seed(seed)\n",
    "    torch.cuda.manual_seed_all(seed)\n",
    "    torch.cuda.manual_seed(seed)\n",
    "    torch.backends.cudnn.benchmark = False\n",
    "    torch.backends.cudnn.deterministic = True\n",
    "\n",
    "  print(f'Random seed {seed} has been set.')\n",
    "\n",
    "\n",
    "# In case that `DataLoader` is used\n",
    "def seed_worker(worker_id):\n",
    "  worker_seed = torch.initial_seed() % 2**32\n",
    "  np.random.seed(worker_seed)\n",
    "  random.seed(worker_seed)"
   ]
  },
  {
   "cell_type": "code",
   "execution_count": null,
   "metadata": {
    "cellView": "form",
    "execution": {}
   },
   "outputs": [],
   "source": [
    "#@title Set device (GPU or CPU). Execute `set_device()`\n",
    "# especially if torch modules used.\n",
    "\n",
    "# inform the user if the notebook uses GPU or CPU.\n",
    "\n",
    "def set_device():\n",
    "  device = \"cuda\" if torch.cuda.is_available() else \"cpu\"\n",
    "  if device != \"cuda\":\n",
    "    print(\"WARNING: For this notebook to perform best, \"\n",
    "        \"if possible, in the menu under `Runtime` -> \"\n",
    "        \"`Change runtime type.`  select `GPU` \")\n",
    "  else:\n",
    "    print(\"GPU is enabled in this notebook.\")\n",
    "\n",
    "  return device"
   ]
  },
  {
   "cell_type": "code",
   "execution_count": null,
   "metadata": {
    "execution": {}
   },
   "outputs": [],
   "source": [
    "# Set global variables\n",
    "SEED = 2021\n",
    "set_seed(seed=SEED)\n",
    "DEVICE = set_device()"
   ]
  },
  {
   "cell_type": "code",
   "execution_count": null,
   "metadata": {
    "cellView": "form",
    "execution": {}
   },
   "outputs": [],
   "source": [
    "# @markdown ### Pre-load variables (allows each section to be run independently)\n",
    "\n",
    "# Section 1\n",
    "dSprites = data.dSpritesDataset(\n",
    "    os.path.join(REPO_PATH, \"dsprites\", \"dsprites_subset.npz\")\n",
    "    )\n",
    "\n",
    "dSprites_torchdataset = data.dSpritesTorchDataset(\n",
    "  dSprites,\n",
    "  target_latent=\"shape\"\n",
    "  )\n",
    "\n",
    "train_sampler, test_sampler = data.train_test_split_idx(\n",
    "  dSprites_torchdataset,\n",
    "  fraction_train=0.8,\n",
    "  randst=SEED\n",
    "  )\n",
    "\n",
    "supervised_encoder = load.load_encoder(REPO_PATH,\n",
    "                                       model_type=\"supervised\",\n",
    "                                       verbose=False)\n",
    "\n",
    "# Section 2\n",
    "custom_torch_RSM_fct = None  # default is used instead\n",
    "\n",
    "# Section 3\n",
    "random_encoder = load.load_encoder(REPO_PATH,\n",
    "                                   model_type=\"random\",\n",
    "                                   verbose=False)\n",
    "\n",
    "# Section 4\n",
    "vae_encoder = load.load_encoder(REPO_PATH,\n",
    "                                model_type=\"vae\",\n",
    "                                verbose=False)\n",
    "\n",
    "# Section 5\n",
    "invariance_transforms = torchvision.transforms.RandomAffine(\n",
    "    degrees=90,\n",
    "    translate=(0.2, 0.2),\n",
    "    scale=(0.8, 1.2)\n",
    "    )\n",
    "dSprites_invariance_torchdataset = data.dSpritesTorchDataset(\n",
    "    dSprites,\n",
    "    target_latent=\"shape\",\n",
    "    simclr=True,\n",
    "    simclr_transforms=invariance_transforms\n",
    "    )\n",
    "\n",
    "# Section 6\n",
    "simclr_encoder = load.load_encoder(REPO_PATH,\n",
    "                                   model_type=\"simclr\",\n",
    "                                   verbose=False)"
   ]
  },
  {
   "cell_type": "markdown",
   "metadata": {
    "execution": {}
   },
   "source": [
    "---\n",
    "# Section 0: Introduction"
   ]
  },
  {
   "cell_type": "code",
   "execution_count": null,
   "metadata": {
    "cellView": "form",
    "execution": {}
   },
   "outputs": [],
   "source": [
    "# @title Video 0: Introduction\n",
    "from ipywidgets import widgets\n",
    "\n",
    "out2 = widgets.Output()\n",
    "with out2:\n",
    "  from IPython.display import IFrame\n",
    "  class BiliVideo(IFrame):\n",
    "    def __init__(self, id, page=1, width=400, height=300, **kwargs):\n",
    "      self.id=id\n",
    "      src = \"https://player.bilibili.com/player.html?bvid={0}&page={1}\".format(id, page)\n",
    "      super(BiliVideo, self).__init__(src, width, height, **kwargs)\n",
    "\n",
    "  video = BiliVideo(id=f\"BV1D64y1s78e\", width=854, height=480, fs=1)\n",
    "  print(\"Video available at https://www.bilibili.com/video/{0}\".format(video.id))\n",
    "  display(video)\n",
    "\n",
    "out1 = widgets.Output()\n",
    "with out1:\n",
    "  from IPython.display import YouTubeVideo\n",
    "  video = YouTubeVideo(id=f\"Q3b_EqFUI00\", width=854, height=480, fs=1, rel=0)\n",
    "  print(\"Video available at https://youtube.com/watch?v=\" + video.id)\n",
    "  display(video)\n",
    "\n",
    "out = widgets.Tab([out1, out2])\n",
    "out.set_title(0, 'Youtube')\n",
    "out.set_title(1, 'Bilibili')\n",
    "\n",
    "# add event to airtable\n",
    "atform.add_event('Video 0: Introduction')\n",
    "\n",
    "display(out)"
   ]
  },
  {
   "cell_type": "markdown",
   "metadata": {
    "execution": {}
   },
   "source": [
    "---\n",
    "# Section 1: Representations are important\n",
    "\n",
    "*Time estimate: ~30mins*"
   ]
  },
  {
   "cell_type": "code",
   "execution_count": null,
   "metadata": {
    "cellView": "form",
    "execution": {}
   },
   "outputs": [],
   "source": [
    "# @title Video 1: Why do representations matter?\n",
    "from ipywidgets import widgets\n",
    "\n",
    "out2 = widgets.Output()\n",
    "with out2:\n",
    "  from IPython.display import IFrame\n",
    "  class BiliVideo(IFrame):\n",
    "    def __init__(self, id, page=1, width=400, height=300, **kwargs):\n",
    "      self.id=id\n",
    "      src = \"https://player.bilibili.com/player.html?bvid={0}&page={1}\".format(id, page)\n",
    "      super(BiliVideo, self).__init__(src, width, height, **kwargs)\n",
    "\n",
    "  video = BiliVideo(id=f\"BV1g54y1J7cE\", width=854, height=480, fs=1)\n",
    "  print(\"Video available at https://www.bilibili.com/video/{0}\".format(video.id))\n",
    "  display(video)\n",
    "\n",
    "out1 = widgets.Output()\n",
    "with out1:\n",
    "  from IPython.display import YouTubeVideo\n",
    "  video = YouTubeVideo(id=f\"lj5uTUo6W88\", width=854, height=480, fs=1, rel=0)\n",
    "  print(\"Video available at https://youtube.com/watch?v=\" + video.id)\n",
    "  display(video)\n",
    "\n",
    "out = widgets.Tab([out1, out2])\n",
    "out.set_title(0, 'Youtube')\n",
    "out.set_title(1, 'Bilibili')\n",
    "\n",
    "# add event to airtable\n",
    "atform.add_event('Video 1: Why do representations matter?')\n",
    "\n",
    "display(out)"
   ]
  },
  {
   "cell_type": "markdown",
   "metadata": {
    "execution": {}
   },
   "source": [
    "## Section 1.1: Introducing the dSprites dataset"
   ]
  },
  {
   "cell_type": "markdown",
   "metadata": {
    "execution": {}
   },
   "source": [
    "In this tutorial, we will be using a subset of the openly available **dSprites dataset** to investigate the importance of learning good representations.  \n",
    "\n",
    "_**Note on dataset:** For convenience, we will be using a subset of the original, full dataset which is available [here](https://github.com/deepmind/dsprites-dataset/), on GitHub._"
   ]
  },
  {
   "cell_type": "markdown",
   "metadata": {
    "execution": {}
   },
   "source": [
    "### Interactive Demo 1.1.1: Exploring the dSprites dataset\n",
    "\n",
    "In this first demo, we will get to know the **dSprites dataset**. This dataset is made up of black and white images (20,000 images total in the subset we are using).  \n",
    "\n",
    "The images in the dataset can be described using different combinations of **latent dimension values**, sampled from:\n",
    "- **Shapes (3):** square (1.0), oval (2.0) or heart (3.0)\n",
    "- **Scales (6):** 0.5 to 1.0\n",
    "- **Orientations (40):** 0 to 2$\\pi$\n",
    "- **Positions in X (32):** 0 to 1 (left to right)\n",
    "- **Positions in Y (32):** 0 to 1 (top to bottom)\n",
    "\n",
    "As a result, **each image carries 5 labels.** One for each of the latent dimensions.  \n",
    "\n",
    "We will first load the dataset into the `dSprites` object, which is an instance of the `data.dSpritesDataset` class.\n"
   ]
  },
  {
   "cell_type": "code",
   "execution_count": null,
   "metadata": {
    "execution": {}
   },
   "outputs": [],
   "source": [
    "dSprites = data.dSpritesDataset(\n",
    "    os.path.join(REPO_PATH, \"dsprites\", \"dsprites_subset.npz\")\n",
    "    )"
   ]
  },
  {
   "cell_type": "markdown",
   "metadata": {
    "execution": {}
   },
   "source": [
    "Next, we use the `dSpritesDataset` class method `show_images()` to plot a few images from the dataset, with their latent dimension values printed below.    \n",
    "\n",
    "**Interactive Demo:** View a different set of randomly sampled images by passing the random state argument `randst` any integer or the value `None`. (The original setting is `randst=SEED`.)"
   ]
  },
  {
   "cell_type": "code",
   "execution_count": null,
   "metadata": {
    "execution": {}
   },
   "outputs": [],
   "source": [
    "# DEMO: to view different images, set randst to any integer value.\n",
    "dSprites.show_images(num_images=10, randst=SEED)"
   ]
  },
  {
   "cell_type": "markdown",
   "metadata": {
    "execution": {}
   },
   "source": [
    "To better understand the `posX` and `posY` latent dimensions (which will be most relevant in **Bonus 2**), we plot the images with some annotations. The annotations (in red) do not modify the actual images; they are added **purely for visualization purposes**, and show:  \n",
    "  -  the **edges** of the `posX` and `posY` spans, and\n",
    "  - the **center**, i.e. `(posX, posY)`, for each shape.\n",
    "\n",
    "_**Note on shape positions:** Notice that all shape centers are positioned **within the area marked by the red square**. `posX` and `posY` actually describe the relative position of the center of a shape within this area: `posX=0` (left) to `posX=1` (right), and `posY=0` (top) to `posY=1` (bottom). No shape center appears outside, in the buffer area. This choice in the dSprites dataset design ensures that shapes of different scales and rotations **all appear fully**._ "
   ]
  },
  {
   "cell_type": "code",
   "execution_count": null,
   "metadata": {
    "execution": {}
   },
   "outputs": [],
   "source": [
    "# DEMO: to view different images, set randst to any integer value.\n",
    "dSprites.show_images(num_images=10, randst=SEED, annotations=\"pos\")"
   ]
  },
  {
   "cell_type": "markdown",
   "metadata": {
    "execution": {}
   },
   "source": [
    "## Section 1.2: Training a classifier with and without representations"
   ]
  },
  {
   "cell_type": "markdown",
   "metadata": {
    "execution": {}
   },
   "source": [
    "Now, we will investigate how 2 different types of classifiers perform when trained to decode the shape latent dimension of images in the **dSprites dataset**.  \n",
    "\n",
    "Specifically, we will train **one classifier directly on the images**, and **another on the output of an encoder network**.\n",
    "\n",
    "The **encoder network** we will use here and throughout the tutorial is the multi-layer convolutional network, pictured below. It comprises 2 consecutive convolutional layers, followed by 3 fully connected layers, and uses average pooling and batch normalization between layers, as well as rectified linear units as non-linearities. \n",
    "\n",
    "The **classifier layer** then takes the encoder features as input, predicting, for example, the shape latent dimension of encoded input images.\n",
    "\n",
    "_**Note on terminology:** In this tutorial, both the terms **representations** and **features** are used to refer to the data embeddings learned in the final layer of the encoder network (of dimension 1x84, and indicated by a red dashed box) which are fed to the classifiers._"
   ]
  },
  {
   "cell_type": "code",
   "execution_count": null,
   "metadata": {
    "cellView": "form",
    "execution": {}
   },
   "outputs": [],
   "source": [
    "# @markdown ### Encoder network schematic\n",
    "Image(filename=os.path.join(REPO_PATH, \"images\", \"feat_encoder_schematic.png\"), width=1200)"
   ]
  },
  {
   "cell_type": "markdown",
   "metadata": {
    "execution": {}
   },
   "source": [
    "The following code:\n",
    "*    seeds modules that will use random processes, to ensure the results are consistently reproducible, using the `seed_processes()` function,\n",
    "*    collects the dSprites dataset into a torch dataset using the `data.dSpritesTorchDataset` class, \n",
    "*    initializes a training and a test sampler to keep the two datasets separate using the `data.train_test_splix_idx()` function."
   ]
  },
  {
   "cell_type": "code",
   "execution_count": null,
   "metadata": {
    "execution": {}
   },
   "outputs": [],
   "source": [
    "# call this before any dataset/network initializing or training,\n",
    "# to ensure reproducibility\n",
    "set_seed(SEED)\n",
    "\n",
    "# initialize a torch dataset, specifying the target latent dimension for\n",
    "# the classifier\n",
    "dSprites_torchdataset = data.dSpritesTorchDataset(\n",
    "  dSprites,\n",
    "  target_latent=\"shape\"\n",
    "  )\n",
    "\n",
    "# initialize a train_sampler and a test_sampler to keep the two sets\n",
    "# consistently separate\n",
    "train_sampler, test_sampler = data.train_test_split_idx(\n",
    "  dSprites_torchdataset,\n",
    "  fraction_train=0.8,  # 80:20 data split\n",
    "  randst=SEED\n",
    "  )\n",
    "\n",
    "print(f\"Dataset size: {len(train_sampler)} training, \"\n",
    "      f\"{len(test_sampler)} test images\")"
   ]
  },
  {
   "cell_type": "markdown",
   "metadata": {
    "execution": {}
   },
   "source": [
    "### Interactive Demo 1.2.1: Training a logistic regression classifier directly on images\n",
    "\n",
    "The following code:\n",
    "*    trains a logistic regression directly on the training set images to classify their shape, and assesses its performance on the test set images using the `models.train_classifier()` function.\n",
    "\n",
    "**Interactive Demo:** Try a few different `num_epochs` settings to see whether performance improves with more training, e.g., between 1 and 50 epochs. (The original setting is `num_epochs=25`)."
   ]
  },
  {
   "cell_type": "code",
   "execution_count": null,
   "metadata": {
    "execution": {}
   },
   "outputs": [],
   "source": [
    "# call this before any dataset/network initializing or training,\n",
    "# to ensure reproducibility\n",
    "set_seed(SEED)\n",
    "\n",
    "num_epochs = 25  # DEMO: Try different numbers of training epochs\n",
    "\n",
    "# train a classifier directly on the images\n",
    "print(\"Training a classifier directly on the images...\")\n",
    "_ = models.train_classifier(\n",
    "  encoder=None,\n",
    "  dataset=dSprites_torchdataset,\n",
    "  train_sampler=train_sampler,\n",
    "  test_sampler=test_sampler,\n",
    "  freeze_features=True, # there is no feature encoder to train here, anyway\n",
    "  num_epochs=num_epochs,\n",
    "  verbose=True # print results\n",
    "  )"
   ]
  },
  {
   "cell_type": "markdown",
   "metadata": {
    "execution": {}
   },
   "source": [
    "As we can observe, the classifier trained directly on the images performs only a bit above chance (39.55%) on the test set, after 25 training epochs."
   ]
  },
  {
   "cell_type": "markdown",
   "metadata": {
    "execution": {}
   },
   "source": [
    "<b>Shape classification results using different feature encoders:\n",
    "\n",
    "| _Chance_ |  | None (raw data) |\n",
    "| - | - | --- |\n",
    "| _33.33%_ |  | 39.55% |"
   ]
  },
  {
   "cell_type": "markdown",
   "metadata": {
    "execution": {}
   },
   "source": [
    "### Coding Exercise 1.2.1: Training a logistic regression classifier along with an encoder\n",
    "\n",
    "The following code:\n",
    "*    uses the same dSprites torch dataset (`dSprites_torchdataset`) initialized above, as well as the training and test samplers (`train_sampler`, `test_sampler`),\n",
    "*    again, seeds modules that will use random processes, to ensure the results are consistently reproducible,\n",
    "*    initializes an encoder network to use in the supervised network using the `models.EncoderCore` class,\n",
    "*    sets a proposed number of epochs to use when training the classifier and encoder (`num_epochs=10`). \n",
    "\n",
    "**Exercise:** Train a classifier, along with the encoder, to classify the input images according to shape, using `models.train_classifier()`. How does it perform?\n",
    "\n",
    "**Hints**: \n",
    "- `models.train_classifier()`:\n",
    "    - is introduced in **Interactive Demo 1.2.1**.\n",
    "    - takes `freeze_features` as an input argument:\n",
    "        - if set to `True`, the encoder is frozen, and so only the classifier layer is trained.\n",
    "        - if set to `False`, the encoder is **not** frozen, and is trained along with the classifier layer."
   ]
  },
  {
   "cell_type": "code",
   "execution_count": null,
   "metadata": {
    "execution": {}
   },
   "outputs": [],
   "source": [
    "def train_supervised_encoder(num_epochs, seed):\n",
    "  # call this before any dataset/network initializing or training,\n",
    "  # to ensure reproducibility\n",
    "  set_seed(seed)\n",
    "\n",
    "  # initialize a core encoder network on which the classifier will be added\n",
    "  supervised_encoder = models.EncoderCore()\n",
    "\n",
    "  #################################################\n",
    "  # Fill in missing code below (...),\n",
    "  # then remove or comment the line below to test your implementation\n",
    "  raise NotImplementedError(\"Exercise: Train a supervised encoder and classifier.\")\n",
    "  #################################################\n",
    "  # EXERCISE: Train an encoder and classifier on the images, using models.train_classifier()\n",
    "  print(\"Training a supervised encoder and classifier...\")\n",
    "  _ = models.train_classifier(\n",
    "      encoder=...,\n",
    "      dataset=...,\n",
    "      train_sampler=...,\n",
    "      test_sampler=...,\n",
    "      freeze_features=...,\n",
    "      num_epochs=num_epochs,\n",
    "      verbose=...  # print results\n",
    "      )\n",
    "\n",
    "  return supervised_encoder\n",
    "\n",
    "\n",
    "# add event to airtable\n",
    "atform.add_event('Coding Exercise 1.2.1: Training a logistic regression classifier along with an encoder')\n",
    "\n",
    "num_epochs = 10 # Proposed number of training epochs\n",
    "## Uncomment below to test your function\n",
    "# supervised_encoder = train_supervised_encoder(num_epochs=num_epochs, seed=SEED)"
   ]
  },
  {
   "cell_type": "code",
   "execution_count": null,
   "metadata": {
    "execution": {}
   },
   "outputs": [],
   "source": [
    "# to_remove solution\n",
    "def train_supervised_encoder(num_epochs, seed):\n",
    "  # call this before any dataset/network initializing or training,\n",
    "  # to ensure reproducibility\n",
    "  set_seed(seed)\n",
    "\n",
    "  # initialize a core encoder network on which the classifier will be added\n",
    "  supervised_encoder = models.EncoderCore()\n",
    "  # EXERCISE: Train an encoder and classifier on the images, using models.train_classifier()\n",
    "  print(\"Training a supervised encoder and classifier...\")\n",
    "  _ = models.train_classifier(\n",
    "      encoder=supervised_encoder,\n",
    "      dataset=dSprites_torchdataset,\n",
    "      train_sampler=train_sampler,\n",
    "      test_sampler=test_sampler,\n",
    "      freeze_features=False,\n",
    "      num_epochs=num_epochs,\n",
    "      verbose=True  # print results\n",
    "      )\n",
    "\n",
    "  return supervised_encoder\n",
    "\n",
    "\n",
    "# add event to airtable\n",
    "atform.add_event('Coding Exercise 1.2.1: Training a logistic regression classifier along with an encoder')\n",
    "\n",
    "num_epochs = 10 # Proposed number of training epochs\n",
    "## Uncomment below to test your function\n",
    "supervised_encoder = train_supervised_encoder(num_epochs=num_epochs, seed=SEED)"
   ]
  },
  {
   "cell_type": "markdown",
   "metadata": {
    "execution": {}
   },
   "source": [
    "```\n",
    "Network performance after 10 encoder and classifier training epochs (chance: 33.33%):\n",
    "    Training accuracy: 100.00%\n",
    "    Testing accuracy: 98.38%\n",
    "````"
   ]
  },
  {
   "cell_type": "markdown",
   "metadata": {
    "execution": {}
   },
   "source": [
    "When the classifier is trained with an encoder network, however, it achieves very high classification accuracy (98.72%) on the test set, after only 10 training epochs."
   ]
  },
  {
   "cell_type": "markdown",
   "metadata": {
    "execution": {}
   },
   "source": [
    "<b>Shape classification results using different feature encoders:\n",
    "\n",
    "| _Chance_ |  | None (raw data) | Supervised |\n",
    "| - | - | --- | --- |\n",
    "| _33.33%_ |  | 39.55% | 98.38% |"
   ]
  },
  {
   "cell_type": "markdown",
   "metadata": {
    "execution": {}
   },
   "source": [
    "---\n",
    "# Section 2: Supervised learning induces invariant representations\n",
    "\n",
    "*Time estimate: ~20mins*"
   ]
  },
  {
   "cell_type": "code",
   "execution_count": null,
   "metadata": {
    "cellView": "form",
    "execution": {}
   },
   "outputs": [],
   "source": [
    "# @title Video 2: Supervised Learning and Invariance\n",
    "from ipywidgets import widgets\n",
    "\n",
    "out2 = widgets.Output()\n",
    "with out2:\n",
    "  from IPython.display import IFrame\n",
    "  class BiliVideo(IFrame):\n",
    "    def __init__(self, id, page=1, width=400, height=300, **kwargs):\n",
    "      self.id=id\n",
    "      src = \"https://player.bilibili.com/player.html?bvid={0}&page={1}\".format(id, page)\n",
    "      super(BiliVideo, self).__init__(src, width, height, **kwargs)\n",
    "\n",
    "  video = BiliVideo(id=f\"BV1d54y1E76W\", width=854, height=480, fs=1)\n",
    "  print(\"Video available at https://www.bilibili.com/video/{0}\".format(video.id))\n",
    "  display(video)\n",
    "\n",
    "out1 = widgets.Output()\n",
    "with out1:\n",
    "  from IPython.display import YouTubeVideo\n",
    "  video = YouTubeVideo(id=f\"ZQka4k8ZOs0\", width=854, height=480, fs=1, rel=0)\n",
    "  print(\"Video available at https://youtube.com/watch?v=\" + video.id)\n",
    "  display(video)\n",
    "\n",
    "out = widgets.Tab([out1, out2])\n",
    "out.set_title(0, 'Youtube')\n",
    "out.set_title(1, 'Bilibili')\n",
    "\n",
    "# add event to airtable\n",
    "atform.add_event('Video 2: Supervised Learning and Invariance')\n",
    "\n",
    "display(out)"
   ]
  },
  {
   "cell_type": "markdown",
   "metadata": {
    "execution": {}
   },
   "source": [
    "## Section 2.1: Examining Representational Similarity Matrices (RSMs)"
   ]
  },
  {
   "cell_type": "markdown",
   "metadata": {
    "execution": {}
   },
   "source": [
    "To examine the representations learned by the encoder network, we use **Representational Similarity Matrices (RSMs)**. In these matrices, the similarity between the encoder's representations of each possible pair of images is plotted to reveal overall structure in representation space.  \n",
    "\n",
    "_**Note on cosine similarity:** Here, we use cosine similarity as a measure of representational similarity. Cosine similarity measures the angle between 2 vectors, and can be thought of as their normalized dot product._"
   ]
  },
  {
   "cell_type": "markdown",
   "metadata": {
    "execution": {}
   },
   "source": [
    "### Coding Exercise 2.1.1: Complete a function that calculates RSMs\n",
    "\n",
    "The following code:\n",
    "*    lays out the skeleton of a function `custom_torch_RSM_fct()` which calculates an RSM from features,\n",
    "*    tests the custom function against the solution implementation.\n",
    "\n",
    "**Exercise:** Complete the `custom_torch_RSM_fct()` implementation.\n",
    "\n",
    "**Hints**: \n",
    "- `custom_torch_RSM_fct()`: \n",
    "    - takes 1 input argument:\n",
    "        - `features` (2D torch Tensor): feature matrix (nbr items x nbr features)\n",
    "    - returns 1 output:\n",
    "        - `rsm` (2D torch Tensor): similarity matrix (nbr items x nbr items)\n",
    "    - uses `torch.nn.functional.cosine_similarity()`.\n",
    "- `torch.nn.functional.cosine_similarity()`:\n",
    "    - takes 3 arguments, in order: \n",
    "        - `x1` (torch Tensor),\n",
    "        - `x2` (torch Tensor), \n",
    "        - `dim` (int)\n",
    "    - returns the similarity between `x1` and `x2` along dimension `dim`.\n",
    "\n",
    "**Detailed hint**: \n",
    "- To use `torch.nn.functional.cosine_similarity()` to measure the similarity of `features` to **itself** for each possible **pair of items**:\n",
    "    - Pass 2 versions of `features` as `x1` and `x2`, respectively. \n",
    "    - Ensure that for `x1` and `x2`, the **features dimension is at the same position** , and specify that dimension with `dim`.\n",
    "    - To obtain the similarity between each possible pair of items, ensure that for `x1` and `x2`, the **items dimensions are orthogonal** to one another (i.e., at different positions).\n",
    "    - Don't forget that to achieve this, singleton dimensions (i.e., dimensions of length 1) can be used."
   ]
  },
  {
   "cell_type": "code",
   "execution_count": null,
   "metadata": {
    "execution": {}
   },
   "outputs": [],
   "source": [
    "def custom_torch_RSM_fct(features):\n",
    "  \"\"\"\n",
    "  custom_torch_RSM_fct(features)\n",
    "\n",
    "  Custom function to calculate representational similarity matrix (RSM) of a feature\n",
    "  matrix using pairwise cosine similarity.\n",
    "\n",
    "  Complete the function below given the specific guidelines.\n",
    "  Uses torch.nn.functional.cosine_similarity()\n",
    "\n",
    "  Required args:\n",
    "  - features (2D torch Tensor): feature matrix (nbr items x nbr features)\n",
    "\n",
    "  Returns:\n",
    "  - rsm (2D torch Tensor): similarity matrix\n",
    "      (nbr items x nbr items)\n",
    "  \"\"\"\n",
    "\n",
    "  num_items, num_features = features.shape\n",
    "\n",
    "  #################################################\n",
    "  # Fill in missing code below (...),\n",
    "  # then remove or comment the line below to test your function\n",
    "  raise NotImplementedError(\"Exercise: Implement RSM calculation.\")\n",
    "  #################################################\n",
    "  # EXERCISE: Implement RSM calculation\n",
    "  rsm = ...\n",
    "\n",
    "  if not rsm.shape == (num_items, num_items):\n",
    "    raise ValueError(\n",
    "        f\"RSM should be of shape ({num_items}, {num_items})\"\n",
    "        )\n",
    "\n",
    "  return rsm\n",
    "\n",
    "\n",
    "# add event to airtable\n",
    "atform.add_event('Coding Exercise 2.1.1: Complete a function that calculates RSMs')\n",
    "\n",
    "## Test implementation by comparing output to solution implementation\n",
    "# test_custom_torch_RSM_fct(custom_torch_RSM_fct)"
   ]
  },
  {
   "cell_type": "code",
   "execution_count": null,
   "metadata": {
    "execution": {}
   },
   "outputs": [],
   "source": [
    "# to_remove solution\n",
    "def custom_torch_RSM_fct(features):\n",
    "  \"\"\"\n",
    "  custom_torch_RSM_fct(features)\n",
    "\n",
    "  Custom function to calculate representational similarity matrix (RSM) of a feature\n",
    "  matrix using pairwise cosine similarity.\n",
    "\n",
    "  Required args:\n",
    "  - features (2D torch Tensor): feature matrix (nbr items x nbr features)\n",
    "\n",
    "  Returns:\n",
    "  - rsm (2D torch Tensor): similarity matrix\n",
    "      (nbr items x nbr items)\n",
    "  \"\"\"\n",
    "\n",
    "  num_items, num_features = features.shape\n",
    "\n",
    "  # EXERCISE: Implement RSM calculation\n",
    "  rsm = torch.nn.functional.cosine_similarity(\n",
    "      features.reshape(1, num_items, num_features),\n",
    "      features.reshape(num_items, 1, num_features),\n",
    "      dim=2\n",
    "      )\n",
    "\n",
    "  if not rsm.shape == (num_items, num_items):\n",
    "    raise ValueError(\n",
    "        f\"RSM should be of shape ({num_items}, {num_items})\"\n",
    "        )\n",
    "\n",
    "  return rsm\n",
    "\n",
    "\n",
    "# add event to airtable\n",
    "atform.add_event('Coding Exercise 2.1.1: Complete a function that calculates RSMs')\n",
    "\n",
    "## Test implementation by comparing output to solution implementation\n",
    "test_custom_torch_RSM_fct(custom_torch_RSM_fct)"
   ]
  },
  {
   "cell_type": "markdown",
   "metadata": {
    "execution": {}
   },
   "source": [
    "```\n",
    "custom_torch_RSM_fct() is correctly implemented.\n",
    "```"
   ]
  },
  {
   "cell_type": "markdown",
   "metadata": {
    "execution": {}
   },
   "source": [
    "### Interactive Demo 2.1.1: Plotting the supervised network encoder RSM along different latent dimensions\n",
    "\n",
    "In this demo, we calculate an RSM for representations of the test set images generated by the supervised network encoder. \n",
    "\n",
    "The following code:\n",
    "*    calculates and plots the RSM for the test set, with rows and columns sorted by whichever latent dimension is specified (e.g., `sorting_latent=\"shape\"`) using `models.plot_model_RSMs()`.\n",
    "\n",
    "**Interactive Demo:** In the current example, the rows and columns of the RSM are organized along the `shape` latent dimension. Try organizing them along one of the other latent dimensions (`\"scale\"`, `\"orientation\"`, `\"posX\"` or `\"posY\"`) to see whether different patterns emerge. (The original setting is `sorting_latent=\"shape\"`.)"
   ]
  },
  {
   "cell_type": "code",
   "execution_count": null,
   "metadata": {
    "execution": {}
   },
   "outputs": [],
   "source": [
    "sorting_latent = \"shape\" # DEMO: Try sorting by different latent dimensions\n",
    "print(\"Plotting RSMs...\")\n",
    "_ = models.plot_model_RSMs(\n",
    "    encoders=[supervised_encoder], # we pass the trained supervised_encoder\n",
    "    dataset=dSprites_torchdataset,\n",
    "    sampler=test_sampler, # we want to see the representations on the held out test set\n",
    "    titles=[\"Supervised network encoder RSM\"], # plot title\n",
    "    sorting_latent=sorting_latent,\n",
    "    RSM_fct=custom_torch_RSM_fct\n",
    "    )"
   ]
  },
  {
   "cell_type": "markdown",
   "metadata": {
    "execution": {}
   },
   "source": [
    "### Discussion 2.1.1: What patterns do the RSMs reveal about how the encoder represents different images? \n",
    "**A.** What does the yellow (maximal similarity color) diagonal, going from the top left to the bottom right, correspond to?  \n",
    "**B.** What pattern can be observed when comparing RSM values for pairs of images that share a similar latent value (e.g., 2 heart images) vs pairs of images that do not (e.g., a heart and a square image)?   \n",
    "**C.** Do some shapes appear to be encoded more similarly than others?  \n",
    "**D.** Do some latent dimensions show clearer RSM patterns than others? Why might that be so?"
   ]
  },
  {
   "cell_type": "code",
   "execution_count": null,
   "metadata": {
    "cellView": "form",
    "execution": {}
   },
   "outputs": [],
   "source": [
    "# @title Student Response\n",
    "from ipywidgets import widgets\n",
    "\n",
    "\n",
    "text=widgets.Textarea(\n",
    "   value='Type your answer here and click on `Submit!`',\n",
    "   placeholder='Type something',\n",
    "   description='',\n",
    "   disabled=False\n",
    ")\n",
    "\n",
    "button = widgets.Button(description=\"Submit!\")\n",
    "\n",
    "display(text,button)\n",
    "\n",
    "def on_button_clicked(b):\n",
    "   atform.add_answer('q1' , text.value)\n",
    "   print(\"Submission successful!\")\n",
    "\n",
    "\n",
    "button.on_click(on_button_clicked)"
   ]
  },
  {
   "cell_type": "code",
   "execution_count": null,
   "metadata": {
    "execution": {}
   },
   "outputs": [],
   "source": [
    "# to_remove explanation\n",
    "\n",
    "\"\"\"\n",
    "A. The yellow diagonal corresponds to the similarity between each encoded image and itself.\n",
    "   Since each encoded image is, of course, identical to itself, the similarity\n",
    "   is of 1 at each point on the diagonal.\n",
    "\n",
    "B. The pattern we observe is that there are square sections of the RSM that have\n",
    "   higher similarity values than the rest, and these sections lie along the\n",
    "   yellow diagonal.\n",
    "   These sections correspond to the similarities between **encoded images of the\n",
    "   same shape** (e.g., 2 hearts), which are generally **higher than the similarities\n",
    "   between encoded images of different shapes** (e.g., a heart and a square),\n",
    "   when using this trained, supervised encoder.\n",
    "\n",
    "C. It is a bit subtle, but it looks like the **hearts and squares** might be\n",
    "   encoded more similarly to one another than the **ovals and squares**, in general.\n",
    "   This is based on the fact that the RSM values for hearts x squares\n",
    "   (bottom left and top right) appear to be lighter (more yellow) than the RSM\n",
    "   values for ovals x squares (top middle and middle left),\n",
    "   which are a bit darker (more blue).\n",
    "\n",
    "D. If we sort by different latent dimensions (e.g., `scale`, `orientation`, `posX` or `posY`),\n",
    "   we do not see as much structure in the RSMs. This is because the supervised\n",
    "   encoder is specifically trained on a shape classification task, which forces\n",
    "   it to encode images of the same shape more similarly, and images of different\n",
    "   shapes more differently. It is not trained to distinguish scales, orientations\n",
    "   or positions. If it **were** trained to predict `orientation`, `scale` or `position`,\n",
    "   we could expect to see similar RSM patterns, with high similarity along the\n",
    "   diagonal for the predicted dimension.\n",
    "\"\"\";"
   ]
  },
  {
   "cell_type": "code",
   "execution_count": null,
   "metadata": {
    "cellView": "form",
    "execution": {}
   },
   "outputs": [],
   "source": [
    "# @markdown ### Supporting images for Discussion response examples for 2.1.1\n",
    "\n",
    "Image(filename=os.path.join(REPO_PATH, \"images\", \"rsms_supervised_encoder_10ep_bs1000_seed2021.png\"), width=1200)"
   ]
  },
  {
   "cell_type": "markdown",
   "metadata": {
    "execution": {}
   },
   "source": [
    "---\n",
    "# Section 3: Random projections don’t work as well\n",
    "\n",
    "*Time estimate: ~20mins*\n"
   ]
  },
  {
   "cell_type": "code",
   "execution_count": null,
   "metadata": {
    "cellView": "form",
    "execution": {}
   },
   "outputs": [],
   "source": [
    "# @title Video 3: Random Representations\n",
    "from ipywidgets import widgets\n",
    "\n",
    "out2 = widgets.Output()\n",
    "with out2:\n",
    "  from IPython.display import IFrame\n",
    "  class BiliVideo(IFrame):\n",
    "    def __init__(self, id, page=1, width=400, height=300, **kwargs):\n",
    "      self.id=id\n",
    "      src = \"https://player.bilibili.com/player.html?bvid={0}&page={1}\".format(id, page)\n",
    "      super(BiliVideo, self).__init__(src, width, height, **kwargs)\n",
    "\n",
    "  video = BiliVideo(id=f\"BV1Jf4y15789\", width=854, height=480, fs=1)\n",
    "  print(\"Video available at https://www.bilibili.com/video/{0}\".format(video.id))\n",
    "  display(video)\n",
    "\n",
    "out1 = widgets.Output()\n",
    "with out1:\n",
    "  from IPython.display import YouTubeVideo\n",
    "  video = YouTubeVideo(id=f\"LVM7Fm5T6Fs\", width=854, height=480, fs=1, rel=0)\n",
    "  print(\"Video available at https://youtube.com/watch?v=\" + video.id)\n",
    "  display(video)\n",
    "\n",
    "out = widgets.Tab([out1, out2])\n",
    "out.set_title(0, 'Youtube')\n",
    "out.set_title(1, 'Bilibili')\n",
    "\n",
    "# add event to airtable\n",
    "atform.add_event('Video 3: Random Representations')\n",
    "\n",
    "display(out)"
   ]
  },
  {
   "cell_type": "markdown",
   "metadata": {
    "execution": {}
   },
   "source": [
    "## Section 3.1: Examining RSMs of a random encoder"
   ]
  },
  {
   "cell_type": "markdown",
   "metadata": {
    "execution": {}
   },
   "source": [
    "To determine whether the patterns observed in the RSMs of the supervised network encoder are trivial, we investigate whether they also emerge from the **random projections of an untrained encoder**."
   ]
  },
  {
   "cell_type": "markdown",
   "metadata": {
    "execution": {}
   },
   "source": [
    "### Coding Exercise 3.1.1: Plotting a random network encoder RSM along different latent dimensions\n",
    "\n",
    "In this exercise, we repeat the same analysis as in **Section 2.1**, but with a random encoder.  \n",
    "\n",
    "The following code:\n",
    "*    initializes an encoder network to use in the random network using the `models.EncoderCore` class,\n",
    "*    proposes a latent dimension along which to sort the rows and columns (`sorting_latent = \"shape\"`).\n",
    "\n",
    "**Exercise:** \n",
    "*    Visualize the RSMs for the supervised and random network encoders, using `models.plot_model_RSMs()`. \n",
    "*    Visualize the RSMs, organized along different latent dimensions (`\"scale\"`, `\"orientation\"`, `\"posX\"` or `\"posY\"`), and compare the patterns observed for the supervised versus the random encoder network.\n",
    "\n",
    "**Hint**: `models.plot_model_RSMs()` is introduced in **Interactive Demo 2.1.1**."
   ]
  },
  {
   "cell_type": "code",
   "execution_count": null,
   "metadata": {
    "execution": {}
   },
   "outputs": [],
   "source": [
    "def plot_rsms(seed):\n",
    "  # call this before any dataset/network initializing or training,\n",
    "  # to ensure reproducibility\n",
    "  set_seed(seed)\n",
    "\n",
    "  # initialize a core encoder network that will not get trained\n",
    "  random_encoder = models.EncoderCore()\n",
    "\n",
    "  # EXERCISE: Try sorting by different latent dimensions\n",
    "  sorting_latent = \"shape\"\n",
    "\n",
    "  #################################################\n",
    "  # Fill in missing code below (...),\n",
    "  # then remove or comment the line below to test your implementation\n",
    "  raise NotImplementedError(\"Exercise: Plot RSMs.\")\n",
    "  #################################################\n",
    "  # EXERCISE: Plot RSMs\n",
    "  print(\"Plotting RSMs...\")\n",
    "  _ = models.plot_model_RSMs(\n",
    "      encoders=[..., ...],  # we pass both encoders\n",
    "      dataset=...,\n",
    "      sampler=...,  # we want to see the representations on the held out test set\n",
    "      titles=[\"Supervised network encoder RSM\",\n",
    "              \"Random network encoder RSM\"],  # plot titles\n",
    "      sorting_latent=sorting_latent,\n",
    "      )\n",
    "\n",
    "  return random_encoder\n",
    "\n",
    "\n",
    "# add event to airtable\n",
    "atform.add_event('Coding Exercise 3.1.1: Plotting a random network encoder RSM along different latent dimensions')\n",
    "\n",
    "## Uncomment below to test your function\n",
    "# random_encoder = plot_rsms(seed=SEED)"
   ]
  },
  {
   "cell_type": "code",
   "execution_count": null,
   "metadata": {
    "execution": {}
   },
   "outputs": [],
   "source": [
    "# to_remove solution\n",
    "def plot_rsms(seed):\n",
    "  # call this before any dataset/network initializing or training,\n",
    "  # to ensure reproducibility\n",
    "  set_seed(seed)\n",
    "\n",
    "  # initialize a core encoder network that will not get trained\n",
    "  random_encoder = models.EncoderCore()\n",
    "\n",
    "  # EXERCISE: Try sorting by different latent dimensions\n",
    "  sorting_latent = \"shape\"\n",
    "\n",
    "  # EXERCISE: Plot RSMs\n",
    "  print(\"Plotting RSMs...\")\n",
    "  _ = models.plot_model_RSMs(\n",
    "      encoders=[supervised_encoder, random_encoder],  # we pass both encoders\n",
    "      dataset=dSprites_torchdataset,\n",
    "      sampler=test_sampler,  # we want to see the representations on the held out test set\n",
    "      titles=[\"Supervised network encoder RSM\",\n",
    "              \"Random network encoder RSM\"],  # plot titles\n",
    "      sorting_latent=sorting_latent,\n",
    "      )\n",
    "\n",
    "  return random_encoder\n",
    "\n",
    "\n",
    "# add event to airtable\n",
    "atform.add_event('Coding Exercise 3.1.1: Plotting a random network encoder RSM along different latent dimensions')\n",
    "\n",
    "## Uncomment below to test your function\n",
    "with plt.xkcd():\n",
    "  random_encoder = plot_rsms(seed=SEED)"
   ]
  },
  {
   "cell_type": "markdown",
   "metadata": {
    "execution": {}
   },
   "source": [
    "### Discussion 3.1.1: What does comparing these RSMs reveal about the potential value of trained versus random encoder representations? \n",
    "\n",
    "**A.** What patterns, if any, are visible in the random network encoder RSM?   \n",
    "**B.** Which encoder network is most likely to produce meaningful representations?"
   ]
  },
  {
   "cell_type": "code",
   "execution_count": null,
   "metadata": {
    "cellView": "form",
    "execution": {}
   },
   "outputs": [],
   "source": [
    "# @title Student Response\n",
    "from ipywidgets import widgets\n",
    "\n",
    "\n",
    "text=widgets.Textarea(\n",
    "   value='Type your answer here and click on `Submit!`',\n",
    "   placeholder='Type something',\n",
    "   description='',\n",
    "   disabled=False\n",
    ")\n",
    "\n",
    "button = widgets.Button(description=\"Submit!\")\n",
    "\n",
    "display(text,button)\n",
    "\n",
    "def on_button_clicked(b):\n",
    "   atform.add_answer('q2' , text.value)\n",
    "   print(\"Submission successful!\")\n",
    "\n",
    "\n",
    "button.on_click(on_button_clicked)"
   ]
  },
  {
   "cell_type": "code",
   "execution_count": null,
   "metadata": {
    "execution": {}
   },
   "outputs": [],
   "source": [
    "# to_remove explanation\n",
    "\n",
    "\"\"\"\n",
    "A. Only the yellow diagnonal identity line is visible. No other patterns emerge,\n",
    "   as most images are encoded with near 0 similarity to one another, using the random encoder.\n",
    "\n",
    "B. The trained, supervised network produces more meaningful representations,\n",
    "   as the similarity between different encoded images actually\n",
    "   **captures certain meaningful conceptual similarities between the different images**,\n",
    "   specifically shape similarities. In other words, the image representations\n",
    "   obtained with the trained, supervised encoding reflect the fact that two hearts\n",
    "   are more conceptually similar to each other in terms of shape than a heart and a square.\n",
    "\"\"\";"
   ]
  },
  {
   "cell_type": "code",
   "execution_count": null,
   "metadata": {
    "cellView": "form",
    "execution": {}
   },
   "outputs": [],
   "source": [
    "# @markdown ### Supporting images for Discussion response examples for 3.1.1: All random encoder RSMs\n",
    "\n",
    "Image(filename=os.path.join(REPO_PATH, \"images\", \"rsms_random_encoder_0ep_bs0_seed2021.png\"), width=1000)"
   ]
  },
  {
   "cell_type": "markdown",
   "metadata": {
    "execution": {}
   },
   "source": [
    "### Coding Exercise 3.1.2: Evaluating the classification performance of a logistic regression trained on the representations produced by a random network encoder\n",
    "\n",
    "In this exercise, we repeat a similar analysis to **Section 1.2**, but with the random encoder network. Importantly, this time, the encoder parameters must stay frozen during training by setting `freeze_features=True`. Instead of being provided ahead of time a suggestion for a reasonable number of training epochs, we use the training loss array to select a good value.  \n",
    "\n",
    "\n",
    "The following code:\n",
    "*    trains a logistic regression on top of the random encoder network to classify images based on shape, and assesses its performance on the test set images using `models.train_classifier()` with `freeze_features=True` to ensure that the encoder is **not** trained, and only the classifier is.\n",
    "\n",
    "**Exercise:** \n",
    "*     Set a number of epochs for which to train the classifier.  \n",
    "*     Plot the training loss array (`random_loss_array`, i.e. training loss at each epoch) returned when training the model.  \n",
    "*     Rerun the classifier if more training epochs are needed based on the progression of the training loss.\n"
   ]
  },
  {
   "cell_type": "code",
   "execution_count": null,
   "metadata": {
    "execution": {}
   },
   "outputs": [],
   "source": [
    "def plot_loss(num_epochs, seed):\n",
    "  # call this before any dataset/network initializing or training,\n",
    "  # to ensure reproducibility\n",
    "  set_seed(seed)\n",
    "\n",
    "  # train classifier on the randomly encoded images\n",
    "  print(\"Training a classifier on the random encoder representations...\")\n",
    "  _, random_loss_array, _, _ = models.train_classifier(\n",
    "      encoder=random_encoder,\n",
    "      dataset=dSprites_torchdataset,\n",
    "      train_sampler=train_sampler,\n",
    "      test_sampler=test_sampler,\n",
    "      freeze_features=True,  # keep the encoder frozen while training the classifier\n",
    "      num_epochs=num_epochs,\n",
    "      verbose=True  # print results\n",
    "      )\n",
    "  #################################################\n",
    "  # Fill in missing code below (...),\n",
    "  # then remove or comment the line below to test your implementation\n",
    "  raise NotImplementedError(\"Exercise: Plot loss array.\")\n",
    "  #################################################\n",
    "  # EXERCISE: Plot the loss array\n",
    "  fig, ax = plt.subplots()\n",
    "  ax.plot(...)\n",
    "  ax.set_title(...)\n",
    "  ax.set_xlabel(...)\n",
    "  ax.set_ylabel(...)\n",
    "\n",
    "  return random_loss_array\n",
    "\n",
    "\n",
    "# add event to airtable\n",
    "atform.add_event('Coding Exercise 3.1.2: Evaluating the classification performance of a logistic regression')\n",
    "\n",
    "## Set a reasonable number of training epochs\n",
    "num_epochs = 25\n",
    "## Uncomment below to test your plot\n",
    "# random_loss_array = plot_loss(num_epochs=num_epochs, seed=SEED)"
   ]
  },
  {
   "cell_type": "code",
   "execution_count": null,
   "metadata": {
    "execution": {}
   },
   "outputs": [],
   "source": [
    "# to_remove solution\n",
    "def plot_loss(num_epochs, seed):\n",
    "  # call this before any dataset/network initializing or training,\n",
    "  # to ensure reproducibility\n",
    "  set_seed(seed)\n",
    "\n",
    "  # train classifier on the randomly encoded images\n",
    "  print(\"Training a classifier on the random encoder representations...\")\n",
    "  _, random_loss_array, _, _ = models.train_classifier(\n",
    "      encoder=random_encoder,\n",
    "      dataset=dSprites_torchdataset,\n",
    "      train_sampler=train_sampler,\n",
    "      test_sampler=test_sampler,\n",
    "      freeze_features=True,  # keep the encoder frozen while training the classifier\n",
    "      num_epochs=num_epochs,\n",
    "      verbose=True  # print results\n",
    "      )\n",
    "  # EXERCISE: Plot the loss array\n",
    "  fig, ax = plt.subplots()\n",
    "  ax.plot(random_loss_array)\n",
    "  ax.set_title(\"Loss of classifier trained on a random encoder.\")\n",
    "  ax.set_xlabel(\"Epoch number\")\n",
    "  ax.set_ylabel(\"Training loss\")\n",
    "\n",
    "  return random_loss_array\n",
    "\n",
    "\n",
    "# add event to airtable\n",
    "atform.add_event('Coding Exercise 3.1.2: Evaluating the classification performance of a logistic regression')\n",
    "\n",
    "## Set a reasonable number of training epochs\n",
    "num_epochs = 25\n",
    "## Uncomment below to test your plot\n",
    "with plt.xkcd():\n",
    "  random_loss_array = plot_loss(num_epochs=num_epochs, seed=SEED)"
   ]
  },
  {
   "cell_type": "markdown",
   "metadata": {
    "execution": {}
   },
   "source": [
    "```\n",
    "Network performance after 25 classifier training epochs (chance: 33.33%):\n",
    "    Training accuracy: 46.02%\n",
    "    Testing accuracy: 44.67%\n",
    "```"
   ]
  },
  {
   "cell_type": "markdown",
   "metadata": {
    "execution": {}
   },
   "source": [
    "The network loss training is fairly stable by 25 epochs, at which point the classifier performs at 44.67% accuracy on the test dataset. "
   ]
  },
  {
   "cell_type": "markdown",
   "metadata": {
    "execution": {}
   },
   "source": [
    "<b>Shape classification results using different feature encoders:\n",
    "\n",
    "| _Chance_ |  | None (raw data) | Supervised | Random |\n",
    "| - | - | --- | --- | --- |\n",
    "| _33.33%_ |  | 39.55% | 98.38% | 44.67% |"
   ]
  },
  {
   "cell_type": "markdown",
   "metadata": {
    "execution": {}
   },
   "source": [
    "### Discussion 3.1.2: What can we conclude about the potential consequences of using random projections with a dataset like dSprites? \n",
    "\n",
    "**A.** How does the classifier performance compare to the classifier trained directly on the images?  \n",
    "**B.** How does the classifier performance compare to the classifier trained along with the encoder (supervised encoder)?  \n",
    "**C.** What explains these different performances?  "
   ]
  },
  {
   "cell_type": "code",
   "execution_count": null,
   "metadata": {
    "cellView": "form",
    "execution": {}
   },
   "outputs": [],
   "source": [
    "# @title Student Response\n",
    "from ipywidgets import widgets\n",
    "\n",
    "\n",
    "text=widgets.Textarea(\n",
    "   value='Type your answer here and click on `Submit!`',\n",
    "   placeholder='Type something',\n",
    "   description='',\n",
    "   disabled=False\n",
    ")\n",
    "\n",
    "button = widgets.Button(description=\"Submit!\")\n",
    "\n",
    "display(text,button)\n",
    "\n",
    "def on_button_clicked(b):\n",
    "   atform.add_answer('q3' , text.value)\n",
    "   print(\"Submission successful!\")\n",
    "\n",
    "\n",
    "button.on_click(on_button_clicked)"
   ]
  },
  {
   "cell_type": "code",
   "execution_count": null,
   "metadata": {
    "execution": {}
   },
   "outputs": [],
   "source": [
    "# to_remove explanation\n",
    "\n",
    "\"\"\"\n",
    "A. The classifier trained with the random encoder appears to perform a bit\n",
    "   better than the classifier trained directly on the raw data.\n",
    "\n",
    "B. The classifier trained with the random encoder performs substantially worse\n",
    "   than the classifier trained along with the encoder (supervised encoder).\n",
    "\n",
    "C. The random encoder projects the raw data to a lower dimensional\n",
    "   feature space (84 features instead of 64 x 64 pixels).\n",
    "   This **reduction in dimensionality**, as well as the possibility that some\n",
    "   of the features **may randomly carry some shape-relevant information**,\n",
    "   may explain the slight improvement in classification performance over training\n",
    "   directly on the raw data. However, since the features are random,\n",
    "   they are far less useful for the shape classification task than the\n",
    "   supervised encoder's features which were specifically tuned to that task.\n",
    "\"\"\";"
   ]
  },
  {
   "cell_type": "markdown",
   "metadata": {
    "execution": {}
   },
   "source": [
    "---\n",
    "# Section 4: Generative approaches to representation learning can fail\n",
    "\n",
    "*Time estimate: ~30mins*\n"
   ]
  },
  {
   "cell_type": "code",
   "execution_count": null,
   "metadata": {
    "cellView": "form",
    "execution": {}
   },
   "outputs": [],
   "source": [
    "# @title Video 4: Generative models\n",
    "from ipywidgets import widgets\n",
    "\n",
    "out2 = widgets.Output()\n",
    "with out2:\n",
    "  from IPython.display import IFrame\n",
    "  class BiliVideo(IFrame):\n",
    "    def __init__(self, id, page=1, width=400, height=300, **kwargs):\n",
    "      self.id=id\n",
    "      src = \"https://player.bilibili.com/player.html?bvid={0}&page={1}\".format(id, page)\n",
    "      super(BiliVideo, self).__init__(src, width, height, **kwargs)\n",
    "\n",
    "  video = BiliVideo(id=f\"BV1YP4y147UT\", width=854, height=480, fs=1)\n",
    "  print(\"Video available at https://www.bilibili.com/video/{0}\".format(video.id))\n",
    "  display(video)\n",
    "\n",
    "out1 = widgets.Output()\n",
    "with out1:\n",
    "  from IPython.display import YouTubeVideo\n",
    "  video = YouTubeVideo(id=f\"NUittg0EKSM\", width=854, height=480, fs=1, rel=0)\n",
    "  print(\"Video available at https://youtube.com/watch?v=\" + video.id)\n",
    "  display(video)\n",
    "\n",
    "out = widgets.Tab([out1, out2])\n",
    "out.set_title(0, 'Youtube')\n",
    "out.set_title(1, 'Bilibili')\n",
    "\n",
    "# add event to airtable\n",
    "atform.add_event('Video 4: Generative models')\n",
    "\n",
    "display(out)"
   ]
  },
  {
   "cell_type": "markdown",
   "metadata": {
    "execution": {}
   },
   "source": [
    "## Section 4.1: Examining the RSMs of a Variational Autoencoder"
   ]
  },
  {
   "cell_type": "markdown",
   "metadata": {
    "execution": {}
   },
   "source": [
    "We next ask what kind of representations a network can learn in the absence of labelled data. We first look at a **generative model**, namely the **Variational Autoencoder (VAE)**.  \n",
    "\n",
    "Given that generative models typically require more training than supervised models, instead of pre-training a network here, we will load one that was **pre-trained for 300 epochs**. Importantly, the **encoder shares the same architecture** as the one used for the supervised and random examples above.\n",
    "\n",
    "The following code:\n",
    "*    loads the parameters of a full VAE network (encoder and decoder) pre-trained on the generative task of reconstructing the input images, under the Kullback–Leibler divergence (KLD) minimization constraint over the latent space that characterizes VAEs, using `load.load_encoder()` and `load.load_decoder()`."
   ]
  },
  {
   "cell_type": "code",
   "execution_count": null,
   "metadata": {
    "execution": {}
   },
   "outputs": [],
   "source": [
    "# call this before any dataset/network initializing or training,\n",
    "# to ensure reproducibility\n",
    "set_seed(SEED)\n",
    "\n",
    "# Load VAE encoder and decoder pre-trained on the reconstruction and KLD tasks\n",
    "vae_encoder = load.load_encoder(REPO_PATH, model_type=\"vae\")\n",
    "vae_decoder = load.load_vae_decoder(REPO_PATH)"
   ]
  },
  {
   "cell_type": "markdown",
   "metadata": {
    "execution": {}
   },
   "source": [
    "### Interactive Demo 4.1.1: Plotting example reconstructions using the pre-trained VAE encoder and decoder\n",
    "\n",
    "In this demo, we sample images from the test set, and take a look at the quality of the reconstructions using `models.plot_vae_reconstructions()`.  \n",
    "\n",
    "**Interactive Demo:** Try plotting different images from the test dataset by selecting different `test_sampler.indices` values. (Original setting is `indices=test_sampler.indices[:10]`.)"
   ]
  },
  {
   "cell_type": "code",
   "execution_count": null,
   "metadata": {
    "execution": {}
   },
   "outputs": [],
   "source": [
    "models.plot_vae_reconstructions(\n",
    "    vae_encoder,  # pre-trained encoder\n",
    "    vae_decoder,  # pre-trained decoder\n",
    "    dataset=dSprites_torchdataset,\n",
    "    indices=test_sampler.indices[:10],  # DEMO: select different indices to plot from the test set\n",
    "    title=\"VAE test set image reconstructions\",\n",
    "    )"
   ]
  },
  {
   "cell_type": "markdown",
   "metadata": {
    "execution": {}
   },
   "source": [
    "### Discussion 4.1.1: How does the VAE perform on the reconstruction task? \n",
    "**A.** Which latent features does the network appear to preserve well, and which does it preserve less well?  \n",
    "**B.** Based on the reconstruction performance, what do you expect to see in the different RSMs?  \n",
    "\n",
    "_**Note on reconstruction quality:** This VAE network uses a basic VAE loss with a convolutional encoder (our core encoder network), and a deconvolutional decoder. This can lead to some blurriness in the reconstructed shapes which a more sophisticated VAE could overcome._"
   ]
  },
  {
   "cell_type": "code",
   "execution_count": null,
   "metadata": {
    "execution": {}
   },
   "outputs": [],
   "source": [
    "# to_remove explanation\n",
    "\n",
    "\"\"\"\n",
    "A. The reconstructions preserve most of the latent features well:\n",
    "  - shape: ovals shapes are well preserved, whereas squares lose some sharpness\n",
    "    in their edges. Hearts are poorly preserved, as the sharp angles of their edges are lost.\n",
    "  - scale: shape scales are well preserved.\n",
    "  - orientation: orientations are well preserved.\n",
    "  - posX and posY: shape positions are very well preserved.\n",
    "\n",
    "B. Since several of the latent features of the images are well preserved\n",
    "   in the reconstructions, it is possible that the VAE encoder has indeed\n",
    "   learned a feature space very similar to the known latent dimensions of the data.\n",
    "   However, it is also possible that the VAE encoder instead learned a different\n",
    "   latent feature space that is good enough to achieve reasonable image reconstruction.\n",
    "   Examining the RSMs should shed light on that.\n",
    "\"\"\";"
   ]
  },
  {
   "cell_type": "markdown",
   "metadata": {
    "execution": {}
   },
   "source": [
    "### Interactive Demo 4.1.2: Visualizing the VAE encoder RSMs, organized along different latent dimensions\n",
    "\n",
    "We will now compare the pre-trained VAE encoder network RSM to the previously generated encoder RSMs. \n",
    "\n",
    "**Interactive Demo:** Visualize the RSMs, organized along different latent dimensions (`\"scale\"`, `\"orientation\"`, `\"posX\"` or `\"posY\"`), and compare the patterns observed for the different encoder networks. (The original setting is `sorting_latent=\"shape\"`.)"
   ]
  },
  {
   "cell_type": "code",
   "execution_count": null,
   "metadata": {
    "execution": {}
   },
   "outputs": [],
   "source": [
    "sorting_latent = \"shape\" # DEMO: Try sorting by different latent dimensions\n",
    "print(\"Plotting RSMs...\")\n",
    "_ = models.plot_model_RSMs(\n",
    "    encoders=[supervised_encoder, random_encoder, vae_encoder], # we pass all three encoders\n",
    "    dataset=dSprites_torchdataset,\n",
    "    sampler=test_sampler, # we want to see the representations on the held out test set\n",
    "    titles=[\"Supervised network encoder RSM\", \"Random network encoder RSM\",\n",
    "            \"VAE network encoder RSM\"], # plot titles\n",
    "    sorting_latent=sorting_latent,\n",
    "    )"
   ]
  },
  {
   "cell_type": "markdown",
   "metadata": {
    "execution": {}
   },
   "source": [
    "### Discussion 4.1.2: What can we conclude about the the ability of generative models like VAEs to construct a meaningful representation space?\n",
    "\n",
    "**A.** What structure can be observed in the pre-trained VAE encoder RSMs when sorted along the different latent dimensions, and what does that suggest about the feature space learned by the VAE encoder?  \n",
    "**B.** How do the pre-trained VAE encoder RSMs compare to the supervised and random encoder network RSMs?  \n",
    "**C.** What explains these different RSMs?  \n",
    "**D.** How well will the pre-trained VAE encoder likely perform on the shape classification task, as compared to the other encoder networks?  \n",
    "**E.** Might the pre-trained VAE encoder be better suited to predicting a different latent dimension?"
   ]
  },
  {
   "cell_type": "code",
   "execution_count": null,
   "metadata": {
    "cellView": "form",
    "execution": {}
   },
   "outputs": [],
   "source": [
    "# @title Student Response\n",
    "from ipywidgets import widgets\n",
    "\n",
    "\n",
    "text=widgets.Textarea(\n",
    "   value='Type your answer here and click on `Submit!`',\n",
    "   placeholder='Type something',\n",
    "   description='',\n",
    "   disabled=False\n",
    ")\n",
    "\n",
    "button = widgets.Button(description=\"Submit!\")\n",
    "\n",
    "display(text,button)\n",
    "\n",
    "def on_button_clicked(b):\n",
    "   atform.add_answer('q4' , text.value)\n",
    "   print(\"Submission successful!\")\n",
    "\n",
    "\n",
    "button.on_click(on_button_clicked)"
   ]
  },
  {
   "cell_type": "code",
   "execution_count": null,
   "metadata": {
    "execution": {}
   },
   "outputs": [],
   "source": [
    "# to_remove explanation\n",
    "\n",
    "\"\"\"\n",
    "A. The VAE RSMs show very little structure along the diagonal when sorted by `shape` or `orientation`,\n",
    "   even though both features were reasonably well preserved in the reconstructions.\n",
    "   Some weak structure may be visible for `scale`, but the **clearest structure emerges for `posX` and `posY`**.\n",
    "   This structure shows that the VAE encoder encodes shapes at nearby positions\n",
    "   more similarly to each other than shapes that are farther apart.\n",
    "   Together, these results suggest that although **the VAE was able to reconstruct the images,\n",
    "   it did not end up learning a feature space that fits the known latent dimensions** of the dataset, except position in x and y.\n",
    "\n",
    "B. Like the random encoder, but unlike the supervised encoder, the pre-trained\n",
    "   VAE encoder **shape RSM** shows no structure. However, the pre-trained\n",
    "   VAE encoder's **position RSMs** do show more structure than either\n",
    "   the supervised or random encoder RSMs.\n",
    "\n",
    "C. The differences between the supervised and pre-trained VAE encoder RSMs\n",
    "   reflect the fact that the encoders are trained on very different\n",
    "   tasks: classification and reconstruction, respectively. With such different\n",
    "   constraints and requirements, the feature space needed to accomplish these\n",
    "   tasks is likely to be quite different, as is the case here. Of course, the\n",
    "   random encoder is not trained at all, so its feature space is unlikely to\n",
    "   randomly be similar to either the supervised or VAE encoder's feature space.\n",
    "\n",
    "D. The pre-trained VAE encoder is not likely to perform very well on shape classification,\n",
    "   given the lack of structure in its RSM.\n",
    "\n",
    "E. The pre-trained VAE encoder might be better suited to **predicting `posX` or `posY`**,\n",
    "   as the RSMs show that its feature space does encode these features to some extent.\n",
    "\"\"\";"
   ]
  },
  {
   "cell_type": "code",
   "execution_count": null,
   "metadata": {
    "cellView": "form",
    "execution": {}
   },
   "outputs": [],
   "source": [
    "# @markdown ### Supporting images for Discussion response examples for 4.1.2: All VAE encoder RSMs\n",
    "\n",
    "Image(filename=os.path.join(REPO_PATH, \"images\", \"rsms_vae_encoder_300ep_bs500_seed2021.png\"), width=1000)"
   ]
  },
  {
   "cell_type": "markdown",
   "metadata": {
    "execution": {}
   },
   "source": [
    "### Coding Exercise 4.1.2: Evaluating the classification performance of a logistic regression trained on the representations produced by the pre-trained VAE network encoder\n",
    "\n",
    "For the pre-trained VAE encoder, as the encoder parameters have already been trained, they should be kept frozen while the classifier is trained by setting `freeze_features=True`.   \n",
    "\n",
    "**Exercise:** \n",
    "*     Set a number of epochs for which to train the classifier.  \n",
    "*     Train a classifier, along with the encoder, to classify the input images according to shape, using `models.train_classifier()`.\n",
    "*     Plot the loss array returned when training the model, and update the number of training epochs, if needed. \n",
    "\n",
    "**Hint**: `models.train_classifier()` is introduced in **Interactive Demo 1.2.1**."
   ]
  },
  {
   "cell_type": "code",
   "execution_count": null,
   "metadata": {
    "execution": {}
   },
   "outputs": [],
   "source": [
    "def vae_train_loss(num_epochs, seed):\n",
    "  # call this before any dataset/network initializing or training,\n",
    "  # to ensure reproducibility\n",
    "  set_seed(seed)\n",
    "  #################################################\n",
    "  # Fill in missing code below (...),\n",
    "  # then remove or comment the line below to test your implementation\n",
    "  raise NotImplementedError(\"Exercise: Train a classifer on the pre-trained VAE encoder representations.\")\n",
    "  #################################################\n",
    "  # EXERCISE: Train an encoder and classifier on the images, using models.train_classifier()\n",
    "  print(\"Training a classifier on the pre-trained VAE encoder representations...\")\n",
    "  _, vae_loss_array, _, _ = models.train_classifier(\n",
    "      encoder=...,\n",
    "      dataset=...,\n",
    "      train_sampler=...,\n",
    "      test_sampler=...,\n",
    "      freeze_features=..., # keep the encoder frozen while training the classifier\n",
    "      num_epochs=...,\n",
    "      verbose=... # print results\n",
    "      )\n",
    "  #################################################\n",
    "  # Fill in missing code below (...),\n",
    "  # then remove or comment the line below to test your implementation\n",
    "  raise NotImplementedError(\"Exercise: Plot the VAE classifier training loss.\")\n",
    "  #################################################\n",
    "  # EXERCISE: Plot the VAE classifier training loss.\n",
    "  fig, ax = plt.subplots()\n",
    "  ax.plot(...)\n",
    "  ax.set_title(...)\n",
    "  ax.set_xlabel(...)\n",
    "  ax.set_ylabel(...)\n",
    "\n",
    "  return vae_loss_array\n",
    "\n",
    "\n",
    "# add event to airtable\n",
    "atform.add_event('Coding Exercise 4.1.2: Evaluating the classification performance of a logistic regression - VAE encoder')\n",
    "\n",
    "# Set a reasonable number of training epochs\n",
    "num_epochs = 25\n",
    "## Uncomment below to test your function\n",
    "# vae_loss_array = vae_train_loss(num_epochs=num_epochs, seed=SEED)"
   ]
  },
  {
   "cell_type": "code",
   "execution_count": null,
   "metadata": {
    "execution": {}
   },
   "outputs": [],
   "source": [
    "# to_remove solution\n",
    "def vae_train_loss(num_epochs, seed):\n",
    "  # call this before any dataset/network initializing or training,\n",
    "  # to ensure reproducibility\n",
    "  set_seed(seed)\n",
    "  # EXERCISE: Train an encoder and classifier on the images, using models.train_classifier()\n",
    "  print(\"Training a classifier on the pre-trained VAE encoder representations...\")\n",
    "  _, vae_loss_array, _, _ = models.train_classifier(\n",
    "      encoder=vae_encoder,\n",
    "      dataset=dSprites_torchdataset,\n",
    "      train_sampler=train_sampler,\n",
    "      test_sampler=test_sampler,\n",
    "      freeze_features=True, # keep the encoder frozen while training the classifier\n",
    "      num_epochs=num_epochs,\n",
    "      verbose=True # print results\n",
    "      )\n",
    "  # EXERCISE: Plot the VAE classifier training loss.\n",
    "  fig, ax = plt.subplots()\n",
    "  ax.plot(vae_loss_array)\n",
    "  ax.set_title(\"Loss of classifier trained on a VAE encoder\")\n",
    "  ax.set_xlabel(\"Epoch number\")\n",
    "  ax.set_ylabel(\"Training loss\")\n",
    "\n",
    "  return vae_loss_array\n",
    "\n",
    "\n",
    "# add event to airtable\n",
    "atform.add_event('Coding Exercise 4.1.2: Evaluating the classification performance of a logistic regression - VAE encoder')\n",
    "\n",
    "# Set a reasonable number of training epochs\n",
    "num_epochs = 25\n",
    "## Uncomment below to test your function\n",
    "with plt.xkcd():\n",
    "  vae_loss_array = vae_train_loss(num_epochs=num_epochs, seed=SEED)"
   ]
  },
  {
   "cell_type": "markdown",
   "metadata": {
    "execution": {}
   },
   "source": [
    "The network loss training is fairly stable by 25 epochs, at which point the classifier performs at 45.75% accuracy on the test dataset.  "
   ]
  },
  {
   "cell_type": "markdown",
   "metadata": {
    "execution": {}
   },
   "source": [
    "```\n",
    "Network performance after 25 classifier training epochs (chance: 33.33%):\n",
    "    Training accuracy: 46.48%\n",
    "    Testing accuracy: 45.75%\n",
    "````"
   ]
  },
  {
   "cell_type": "markdown",
   "metadata": {
    "execution": {}
   },
   "source": [
    "<b>Shape classification results using different feature encoders:\n",
    "\n",
    "| _Chance_ |  | None (raw data) | Supervised | Random | VAE |\n",
    "| - | - | --- | --- | --- | --- |\n",
    "| _33.33%_ |  | 39.55% | 98.38% | 44.67% | 45.75% |"
   ]
  },
  {
   "cell_type": "markdown",
   "metadata": {
    "execution": {}
   },
   "source": [
    "---\n",
    "# Section 5: The modern approach to self-supervised training for invariance\n",
    "\n",
    "*Time estimate: ~10mins*"
   ]
  },
  {
   "cell_type": "code",
   "execution_count": null,
   "metadata": {
    "cellView": "form",
    "execution": {}
   },
   "outputs": [],
   "source": [
    "# @title Video 5: Modern Approach in Self-supervised Learning\n",
    "from ipywidgets import widgets\n",
    "\n",
    "out2 = widgets.Output()\n",
    "with out2:\n",
    "  from IPython.display import IFrame\n",
    "  class BiliVideo(IFrame):\n",
    "    def __init__(self, id, page=1, width=400, height=300, **kwargs):\n",
    "      self.id=id\n",
    "      src = \"https://player.bilibili.com/player.html?bvid={0}&page={1}\".format(id, page)\n",
    "      super(BiliVideo, self).__init__(src, width, height, **kwargs)\n",
    "\n",
    "  video = BiliVideo(id=f\"BV1Bv411n7zP\", width=854, height=480, fs=1)\n",
    "  print(\"Video available at https://www.bilibili.com/video/{0}\".format(video.id))\n",
    "  display(video)\n",
    "\n",
    "out1 = widgets.Output()\n",
    "with out1:\n",
    "  from IPython.display import YouTubeVideo\n",
    "  video = YouTubeVideo(id=f\"hUWcsSFWZyw\", width=854, height=480, fs=1, rel=0)\n",
    "  print(\"Video available at https://youtube.com/watch?v=\" + video.id)\n",
    "  display(video)\n",
    "\n",
    "out = widgets.Tab([out1, out2])\n",
    "out.set_title(0, 'Youtube')\n",
    "out.set_title(1, 'Bilibili')\n",
    "\n",
    "# add event to airtable\n",
    "atform.add_event('Video 5: Modern Approach in Self-supervised Learning')\n",
    "\n",
    "display(out)"
   ]
  },
  {
   "cell_type": "markdown",
   "metadata": {
    "execution": {}
   },
   "source": [
    "## Section 5.1: Examining different options for learning invariant representations."
   ]
  },
  {
   "cell_type": "markdown",
   "metadata": {
    "execution": {}
   },
   "source": [
    "We now take a look at a few options for learning invariant shape representations for a dataset such as **dSprites**."
   ]
  },
  {
   "cell_type": "markdown",
   "metadata": {
    "execution": {}
   },
   "source": [
    "### Interactive Demo 5.1.1: Visualizing a few different image transformations available that could be used to learn invariance\n",
    "\n",
    "The following code:\n",
    "*    initializes a set of transforms called `invariance_transforms` using the `torchvision.transforms.RandomAffine` class,\n",
    "*    collects the dSprites dataset into a torch dataset `dSprites_invariance_torchdataset` which takes the `invariance_transforms` as input and deploys the transforms when it is called, \n",
    "*    shows a few examples of images and their transformed versions using the `data.dSpritesTorchDataset` `show_images()` method. \n",
    "\n",
    "The `torchvision.transforms.RandomAffine` class enables us to predetermine which types and ranges of transforms will be sampled from when transforming the images, by setting the following arguments:\n",
    "*    `degrees`: absolute maximum number of degrees to rotate\n",
    "*    `translate`: absolute maximum proportion of width to shift in x, and of height to shift in y\n",
    "*   `scale`: minimum to maximum scaling factor\n",
    "\n",
    "**Interactive Demo:** Try out a few combinations of the transformation parameters, and visualize the pairs of transformations of the same image. (The original settings are `degrees=90`, `translate=(0.2, 0.2)`, `scale=(0.8, 1.2)`.) "
   ]
  },
  {
   "cell_type": "code",
   "execution_count": null,
   "metadata": {
    "execution": {}
   },
   "outputs": [],
   "source": [
    "# call this before any dataset/network initializing or training,\n",
    "# to ensure reproducibility\n",
    "set_seed(SEED)\n",
    "\n",
    "# DEMO: Try some random affine data augmentations combinations to apply to the images\n",
    "invariance_transforms = torchvision.transforms.RandomAffine(\n",
    "    degrees=90,\n",
    "    translate=(0.2, 0.2),  # (in x, in y)\n",
    "    scale=(0.8, 1.2)   # min to max scaling\n",
    "    )\n",
    "\n",
    "# initialize a simclr-specific torch dataset\n",
    "dSprites_invariance_torchdataset = data.dSpritesTorchDataset(\n",
    "    dSprites,\n",
    "    target_latent=\"shape\",\n",
    "    simclr=True,\n",
    "    simclr_transforms=invariance_transforms\n",
    "    )\n",
    "\n",
    "# show a few example of pairs of image augmentations\n",
    "_ = dSprites_invariance_torchdataset.show_images(randst=SEED)"
   ]
  },
  {
   "cell_type": "markdown",
   "metadata": {
    "execution": {}
   },
   "source": [
    "---\n",
    "# Section 6: How to train for invariance to transformations with a target network\n",
    "\n",
    "*Time estimate: ~40mins*"
   ]
  },
  {
   "cell_type": "code",
   "execution_count": null,
   "metadata": {
    "cellView": "form",
    "execution": {}
   },
   "outputs": [],
   "source": [
    "# @title Video 6: Data Transformations\n",
    "from ipywidgets import widgets\n",
    "\n",
    "out2 = widgets.Output()\n",
    "with out2:\n",
    "  from IPython.display import IFrame\n",
    "  class BiliVideo(IFrame):\n",
    "    def __init__(self, id, page=1, width=400, height=300, **kwargs):\n",
    "      self.id=id\n",
    "      src = \"https://player.bilibili.com/player.html?bvid={0}&page={1}\".format(id, page)\n",
    "      super(BiliVideo, self).__init__(src, width, height, **kwargs)\n",
    "\n",
    "  video = BiliVideo(id=f\"BV1H64y1t7ag\", width=854, height=480, fs=1)\n",
    "  print(\"Video available at https://www.bilibili.com/video/{0}\".format(video.id))\n",
    "  display(video)\n",
    "\n",
    "out1 = widgets.Output()\n",
    "with out1:\n",
    "  from IPython.display import YouTubeVideo\n",
    "  video = YouTubeVideo(id=f\"g6IxiUXubhM\", width=854, height=480, fs=1, rel=0)\n",
    "  print(\"Video available at https://youtube.com/watch?v=\" + video.id)\n",
    "  display(video)\n",
    "\n",
    "out = widgets.Tab([out1, out2])\n",
    "out.set_title(0, 'Youtube')\n",
    "out.set_title(1, 'Bilibili')\n",
    "\n",
    "# add event to airtable\n",
    "atform.add_event('Video 6: Data Transformations')\n",
    "\n",
    "display(out)"
   ]
  },
  {
   "cell_type": "markdown",
   "metadata": {
    "execution": {}
   },
   "source": [
    "## Section 6.1: Using image transformations to learn feature invariant representations in an SSL network. "
   ]
  },
  {
   "cell_type": "markdown",
   "metadata": {
    "execution": {}
   },
   "source": [
    "We will now investigate the effects of selecting certain transformations compared to others on the invariance learned by an encoder network trained with a **specific type of SSL algorithm, namely SimCLR**. Specifically, we will observe how pre-training an encoder network with SimCLR affects the performance of a classifier trained on the representations the network has learned."
   ]
  },
  {
   "cell_type": "markdown",
   "metadata": {
    "execution": {}
   },
   "source": [
    "### Coding Exercise 6.1.1: Complete a SimCLR loss function\n",
    "\n",
    "The following code:\n",
    "*    lays out the skeleton of a function `custom_simclr_contrastive_loss()` which calculates the contrastive loss for a SimCLR network,\n",
    "*    tests the custom function against the solution implementation,\n",
    "*    trains SimCLR for a few epochs.\n",
    "\n",
    "**Exercise:** \n",
    "*    Complete the `custom_simclr_contrastive_loss()` implementation,\n",
    "*    Plot the loss after training SimCLR with the custom loss function for a few epochs.\n",
    "\n",
    "**Detailed hint**: \n",
    "- `custom_simclr_contrastive_loss()`:\n",
    "    - takes 2 input arguments: \n",
    "        - `proj_feat1` (2D torch Tensor): projected features for first image augmentations (batch_size x feat_size)  \n",
    "        - `proj_feat2` (2D torch Tensor): projected features for second image augmentations (batch_size x feat_size)  \n",
    "    - computes the `similarity_matrix` for all possible pairs of image augmentations.\n",
    "    - identifies positive and negative sample indicators for indexing the `similarity_matrix`:\n",
    "        - `pos_sample_indicators` (2D torch Tensor): tensor indicating the positions of **positive** image pairs with 1s (and 0s in all other positions). (batch_size \\* 2 x batch_size * 2)  \n",
    "        - `neg_sample_indicators` (2D torch Tensor): tensor indicating the positions of **negative** image pairs with 1s (and 0s in all other positions). (batch_size \\* 2 x batch_size * 2)  \n",
    "    - computes the 2 parts of the contrastive loss, retrieving the relevant values from the `similarity_matrix` using the indicators:\n",
    "        - `numerator`: calculated from the `similarity_matrix` values for positive pairs.  \n",
    "        - `denominator`: calculated from the `similarity_matrix` values for negative pairs."
   ]
  },
  {
   "cell_type": "code",
   "execution_count": null,
   "metadata": {
    "execution": {}
   },
   "outputs": [],
   "source": [
    "def custom_simclr_contrastive_loss(proj_feat1, proj_feat2, temperature=0.5):\n",
    "\n",
    "  \"\"\"\n",
    "  custom_simclr_contrastive_loss(proj_feat1, proj_feat2)\n",
    "  Returns contrastive loss, given sets of projected features, with positive\n",
    "  pairs matched along the batch dimension.\n",
    "  Required args:\n",
    "  - proj_feat1 (2D torch Tensor): projected features for first image\n",
    "      augmentations (batch_size x feat_size)\n",
    "  - proj_feat2 (2D torch Tensor): projected features for second image\n",
    "      augmentations (batch_size x feat_size)\n",
    "\n",
    "  Optional args:\n",
    "  - temperature (float): relaxation temperature. (default: 0.5)\n",
    "  Returns:\n",
    "  - loss (float): mean contrastive loss\n",
    "  \"\"\"\n",
    "  device = proj_feat1.device\n",
    "\n",
    "  if len(proj_feat1) != len(proj_feat2):\n",
    "    raise ValueError(f\"Batch dimension of proj_feat1 ({len(proj_feat1)}) \"\n",
    "                     f\"and proj_feat2 ({len(proj_feat2)}) should be same\")\n",
    "\n",
    "  batch_size = len(proj_feat1) # N\n",
    "  z1 = torch.nn.functional.normalize(proj_feat1, dim=1)\n",
    "  z2 = torch.nn.functional.normalize(proj_feat2, dim=1)\n",
    "\n",
    "  proj_features = torch.cat([z1, z2], dim=0) # 2N x projected feature dimension\n",
    "  similarity_matrix = torch.nn.functional.cosine_similarity(\n",
    "      proj_features.unsqueeze(1), proj_features.unsqueeze(0), dim=2\n",
    "      ) # dim: 2N x 2N\n",
    "\n",
    "  # initialize arrays to identify sets of positive and negative examples, of\n",
    "  # shape (batch_size * 2, batch_size * 2), and where\n",
    "  # 0 indicates that 2 images are NOT a pair (either positive or negative, depending on the indicator type)\n",
    "  # 1 indices that 2 images ARE a pair (either positive or negative, depending on the indicator type)\n",
    "  pos_sample_indicators = torch.roll(torch.eye(2 * batch_size), batch_size, 1).to(device)\n",
    "  neg_sample_indicators = (torch.ones(2 * batch_size) - torch.eye(2 * batch_size)).to(device)\n",
    "\n",
    "  #################################################\n",
    "  # Fill in missing code below (...),\n",
    "  # then remove or comment the line below to test your function\n",
    "  raise NotImplementedError(\"Exercise: Implement SimCLR loss.\")\n",
    "  #################################################\n",
    "  # EXERCISE: Implement the SimClr loss calculation\n",
    "  # Calculate the numerator of the Loss expression by selecting the appropriate elements from similarity_matrix.\n",
    "  # Use the pos_sample_indicators tensor\n",
    "  numerator = ...\n",
    "\n",
    "  # Calculate the denominator of the Loss expression by selecting the appropriate elements from similarity_matrix,\n",
    "  # and summing over pairs for each item.\n",
    "  # Use the neg_sample_indicators tensor\n",
    "  denominator = ...\n",
    "\n",
    "  if (denominator < 1e-8).any(): # clamp to avoid division by 0\n",
    "    denominator = torch.clamp(denominator, 1e-8)\n",
    "\n",
    "  loss = torch.mean(-torch.log(numerator / denominator))\n",
    "\n",
    "  return loss\n",
    "\n",
    "\n",
    "# add event to airtable\n",
    "atform.add_event('Coding Exercise 6.1.1: Complete a SimCLR loss function')\n",
    "\n",
    "## Uncomment below to test your function\n",
    "# test_custom_contrastive_loss_fct(custom_simclr_contrastive_loss)"
   ]
  },
  {
   "cell_type": "code",
   "execution_count": null,
   "metadata": {
    "execution": {}
   },
   "outputs": [],
   "source": [
    "# to_remove solution\n",
    "def custom_simclr_contrastive_loss(proj_feat1, proj_feat2, temperature=0.5):\n",
    "\n",
    "  \"\"\"\n",
    "  custom_simclr_contrastive_loss(proj_feat1, proj_feat2)\n",
    "  Returns contrastive loss, given sets of projected features, with positive\n",
    "  pairs matched along the batch dimension.\n",
    "  Required args:\n",
    "  - proj_feat1 (2D torch Tensor): projected features for first image\n",
    "      augmentations (batch_size x feat_size)\n",
    "  - proj_feat2 (2D torch Tensor): projected features for second image\n",
    "      augmentations (batch_size x feat_size)\n",
    "\n",
    "  Optional args:\n",
    "  - temperature (float): relaxation temperature. (default: 0.5)\n",
    "  Returns:\n",
    "  - loss (float): mean contrastive loss\n",
    "  \"\"\"\n",
    "  device = proj_feat1.device\n",
    "\n",
    "  if len(proj_feat1) != len(proj_feat2):\n",
    "    raise ValueError(f\"Batch dimension of proj_feat1 ({len(proj_feat1)}) \"\n",
    "                     f\"and proj_feat2 ({len(proj_feat2)}) should be same\")\n",
    "\n",
    "  batch_size = len(proj_feat1) # N\n",
    "  z1 = torch.nn.functional.normalize(proj_feat1, dim=1)\n",
    "  z2 = torch.nn.functional.normalize(proj_feat2, dim=1)\n",
    "\n",
    "  proj_features = torch.cat([z1, z2], dim=0) # 2N x projected feature dimension\n",
    "  similarity_matrix = torch.nn.functional.cosine_similarity(\n",
    "      proj_features.unsqueeze(1), proj_features.unsqueeze(0), dim=2\n",
    "      ) # dim: 2N x 2N\n",
    "\n",
    "  # initialize arrays to identify sets of positive and negative examples, of\n",
    "  # shape (batch_size * 2, batch_size * 2), and where\n",
    "  # 0 indicates that 2 images are NOT a pair (either positive or negative, depending on the indicator type)\n",
    "  # 1 indices that 2 images ARE a pair (either positive or negative, depending on the indicator type)\n",
    "  pos_sample_indicators = torch.roll(torch.eye(2 * batch_size), batch_size, 1).to(device)\n",
    "  neg_sample_indicators = (torch.ones(2 * batch_size) - torch.eye(2 * batch_size)).to(device)\n",
    "\n",
    "  # EXERCISE: Implement the SimClr loss calculation\n",
    "  # Calculate the numerator of the Loss expression by selecting the appropriate elements from similarity_matrix.\n",
    "  # Use the pos_sample_indicators tensor\n",
    "  numerator = torch.exp(similarity_matrix / temperature)[pos_sample_indicators.bool()]\n",
    "\n",
    "  # Calculate the denominator of the Loss expression by selecting the appropriate elements from similarity_matrix,\n",
    "  # and summing over pairs for each item.\n",
    "  # Use the neg_sample_indicators tensor\n",
    "  denominator = torch.sum(\n",
    "      torch.exp(similarity_matrix / temperature) * neg_sample_indicators,\n",
    "      dim=1\n",
    "      )\n",
    "\n",
    "  if (denominator < 1e-8).any(): # clamp to avoid division by 0\n",
    "    denominator = torch.clamp(denominator, 1e-8)\n",
    "\n",
    "  loss = torch.mean(-torch.log(numerator / denominator))\n",
    "\n",
    "  return loss\n",
    "\n",
    "\n",
    "# add event to airtable\n",
    "atform.add_event('Coding Exercise 6.1.1: Complete a SimCLR loss function')\n",
    "\n",
    "## Uncomment below to test your function\n",
    "test_custom_contrastive_loss_fct(custom_simclr_contrastive_loss)"
   ]
  },
  {
   "cell_type": "markdown",
   "metadata": {
    "execution": {}
   },
   "source": [
    "```\n",
    "custom_simclr_contrastive_loss() is correctly implemented.\n",
    "```"
   ]
  },
  {
   "cell_type": "markdown",
   "metadata": {
    "execution": {}
   },
   "source": [
    "We can now train the SimCLR encoder with the custom contrastive loss for a few epochs."
   ]
  },
  {
   "cell_type": "code",
   "execution_count": null,
   "metadata": {
    "execution": {}
   },
   "outputs": [],
   "source": [
    "# call this before any dataset/network initializing or training,\n",
    "# to ensure reproducibility\n",
    "set_seed(SEED)\n",
    "\n",
    "# Train SimCLR for a few epochs\n",
    "print(\"Training a SimCLR encoder with the custom contrastive loss...\")\n",
    "num_epochs = 5\n",
    "_, test_simclr_loss_array = models.train_simclr(\n",
    "    encoder=models.EncoderCore(),\n",
    "    dataset=dSprites_invariance_torchdataset,\n",
    "    train_sampler=train_sampler,\n",
    "    num_epochs=num_epochs,\n",
    "    loss_fct=custom_simclr_contrastive_loss\n",
    "    )\n",
    "\n",
    "# Plot SimCLR loss over a few epochs.\n",
    "fig, ax = plt.subplots()\n",
    "ax.plot(test_simclr_loss_array)\n",
    "ax.set_title(\"SimCLR network loss\")\n",
    "ax.set_xlabel(\"Epoch number\")\n",
    "_ = ax.set_ylabel(\"Training loss\")"
   ]
  },
  {
   "cell_type": "markdown",
   "metadata": {
    "execution": {}
   },
   "source": [
    "\n",
    "Given that self-supervised models typically require more training than supervised models, instead of fully pre-training a network here, we will load one that was **pre-trained for 60 epochs**. Again, the **encoder shares the same architecture** as the one used for the supervised, random and VAE examples above.\n",
    "\n",
    "The following code:\n",
    "*    loads the parameters of a SimCLR network pre-trained on the SimCLR contrastive task using `load.load_encoder()`."
   ]
  },
  {
   "cell_type": "code",
   "execution_count": null,
   "metadata": {
    "execution": {}
   },
   "outputs": [],
   "source": [
    "# Load SimCLR encoder pre-trained on the contrastive loss\n",
    "simclr_encoder = load.load_encoder(REPO_PATH, model_type=\"simclr\")"
   ]
  },
  {
   "cell_type": "markdown",
   "metadata": {
    "execution": {}
   },
   "source": [
    "### Interactive Demo 6.1.1: Evaluating the classification performance of a logistic regression trained on the representations produced by a SimCLR network encoder that was pre-trained using different image transformations\n",
    "\n",
    "For the pre-trained SimCLR encoder, as with the VAE encoder, as the encoder parameters have already been trained, they should be kept frozen while the classifier is trained by setting `freeze_features=True`.   \n",
    "\n",
    "We train and test with `dSprites_torchdataset` instead of `dSprites_invariance_torchdataset`, as we are interested in the classifier performance on the real dSprites images, and not their augmentations.\n",
    "\n",
    "**Interactive Demo:** Try different numbers of epochs for which to train the classifier. (The original setting is `num_epochs=10`.)"
   ]
  },
  {
   "cell_type": "code",
   "execution_count": null,
   "metadata": {
    "execution": {}
   },
   "outputs": [],
   "source": [
    "# call this before any dataset/network initializing or training,\n",
    "# to ensure reproducibility\n",
    "set_seed(SEED)\n",
    "\n",
    "print(\"Training a classifier on the pre-trained SimCLR encoder representations...\")\n",
    "_, simclr_loss_array, _, _ = models.train_classifier(\n",
    "    encoder=simclr_encoder,\n",
    "    dataset=dSprites_torchdataset,\n",
    "    train_sampler=train_sampler,\n",
    "    test_sampler=test_sampler,\n",
    "    freeze_features=True, # keep the encoder frozen while training the classifier\n",
    "    num_epochs=10, # DEMO: Try different numbers of epochs\n",
    "    verbose=True\n",
    "    )\n",
    "\n",
    "fig, ax = plt.subplots()\n",
    "ax.plot(simclr_loss_array)\n",
    "ax.set_title(\"Loss of classifier trained on a SimCLR encoder.\")\n",
    "ax.set_xlabel(\"Epoch number\")\n",
    "_ = ax.set_ylabel(\"Training loss\")"
   ]
  },
  {
   "cell_type": "markdown",
   "metadata": {
    "execution": {}
   },
   "source": [
    "```\n",
    "Network performance after 10 classifier training epochs (chance: 33.33%):\n",
    "    Training accuracy: 97.83%\n",
    "    Testing accuracy: 97.53%\n",
    "````"
   ]
  },
  {
   "cell_type": "markdown",
   "metadata": {
    "execution": {}
   },
   "source": [
    "The network (using the transforms proposed above) performs at 97.53% accuracy on the test dataset, after 15 classifier training epochs. "
   ]
  },
  {
   "cell_type": "markdown",
   "metadata": {
    "execution": {}
   },
   "source": [
    "<b>Shape classification results using different feature encoders:\n",
    "\n",
    "| _Chance_ |  | None (raw data) | Supervised | Random | VAE | SimCLR |\n",
    "| - | - | --- | --- | --- | --- | --- |\n",
    "| _33.33%_ |  | 39.55% | 98.38% | 44.67% | 45.75% | 97.53% |"
   ]
  },
  {
   "cell_type": "markdown",
   "metadata": {
    "execution": {}
   },
   "source": [
    "---\n",
    "# Section 7: Ethical considerations for self-supervised learning from biased datasets"
   ]
  },
  {
   "cell_type": "code",
   "execution_count": null,
   "metadata": {
    "cellView": "form",
    "execution": {}
   },
   "outputs": [],
   "source": [
    "# @title Video 7: Un/Self-Supervised Learning\n",
    "from ipywidgets import widgets\n",
    "\n",
    "out2 = widgets.Output()\n",
    "with out2:\n",
    "  from IPython.display import IFrame\n",
    "  class BiliVideo(IFrame):\n",
    "    def __init__(self, id, page=1, width=400, height=300, **kwargs):\n",
    "      self.id=id\n",
    "      src = \"https://player.bilibili.com/player.html?bvid={0}&page={1}\".format(id, page)\n",
    "      super(BiliVideo, self).__init__(src, width, height, **kwargs)\n",
    "\n",
    "  video = BiliVideo(id=f\"BV1mP4y1473E\", width=854, height=480, fs=1)\n",
    "  print(\"Video available at https://www.bilibili.com/video/{0}\".format(video.id))\n",
    "  display(video)\n",
    "\n",
    "out1 = widgets.Output()\n",
    "with out1:\n",
    "  from IPython.display import YouTubeVideo\n",
    "  video = YouTubeVideo(id=f\"NT006a6nkyg\", width=854, height=480, fs=1, rel=0)\n",
    "  print(\"Video available at https://youtube.com/watch?v=\" + video.id)\n",
    "  display(video)\n",
    "\n",
    "out = widgets.Tab([out1, out2])\n",
    "out.set_title(0, 'Youtube')\n",
    "out.set_title(1, 'Bilibili')\n",
    "\n",
    "# add event to airtable\n",
    "atform.add_event('Video 7: Un/Self-Supervised Learning')\n",
    "\n",
    "display(out)"
   ]
  },
  {
   "cell_type": "markdown",
   "metadata": {
    "execution": {}
   },
   "source": [
    "## Section 7.1: The consequences of training models on biased datasets"
   ]
  },
  {
   "cell_type": "markdown",
   "metadata": {
    "execution": {}
   },
   "source": [
    "If a model is trained on a biased dataset, it is likely to learn a representational encoding that reproduces these biases, impairing its ability to generalize properly and increasing the likelihood that it will propagate these biases forward.  \n",
    "\n",
    "Here, we investigate the effects of training the models on a biased subset of the training dataset. Specifically, we introduce a `train_sampler_biased`, a training dataset sampler that only samples:\n",
    "*    **squares**, if they are centered on the **lefthand** side of an image **(posX: 0 to 0.3)**,\n",
    "*    **ovals**, if they are centered in the **center** of an image **(posX: 0.35 to 0.65)**, \n",
    "*    **hearts**, if they are centered on the **righthand** side of am image **(posX: 0.7 to 1.0)**.\n",
    "\n",
    "This sampling bias introduces a correlation between `shape` and `posX` that does not exist in the original dataset.\n",
    "\n",
    "We then train each model as above on the dataset, and observe their performance when tested on an unbiased dataset.\n",
    "\n",
    "_**Note on dataset size:** This biased sampling also significantly reduces the size of the training dataset available (approximately 6x). Thus, it would not be fair to compare our results here to those obtained previously in the tutorial, when we were using the full dataset. For this reason, **as a control, we will also separately train the models with `train_sampler_bias_ctrl`**, a training dataset sampler that does not share the same sampling bias as `train_sampler_biased`, but can only sample as many samples as `train_sampler_biased` can._"
   ]
  },
  {
   "cell_type": "code",
   "execution_count": null,
   "metadata": {
    "execution": {}
   },
   "outputs": [],
   "source": [
    "# call this before any dataset/network initializing or training,\n",
    "# to ensure reproducibility\n",
    "set_seed(SEED)\n",
    "\n",
    "bias_type = \"shape_posX_spaced\" # name of this bias\n",
    "\n",
    "# initialize a biased training sampler and an unbiased test sampler\n",
    "train_sampler_biased, test_sampler_for_biased = data.train_test_split_idx(\n",
    "    dSprites_torchdataset,\n",
    "    fraction_train=0.95, # 95:5 split to partially compensate for loss of training examples due to bias\n",
    "    randst=SEED,\n",
    "    train_bias=bias_type\n",
    "    )\n",
    "\n",
    "# initialize a control, unbiased training sampler and an unbiased test sampler\n",
    "train_sampler_bias_ctrl, test_sampler_for_bias_ctrl = data.train_test_split_idx(\n",
    "    dSprites_torchdataset,\n",
    "    fraction_train=0.95,\n",
    "    randst=SEED,\n",
    "    train_bias=bias_type,\n",
    "    control = True\n",
    "    )\n",
    "\n",
    "print(f\"Biased dataset: {len(train_sampler_biased)} training, \"\n",
    "      f\"{len(test_sampler_for_biased)} test images\")\n",
    "print(f\"Bias control dataset: {len(train_sampler_bias_ctrl)} training, \"\n",
    "      f\"{len(test_sampler_for_bias_ctrl)} test images\")"
   ]
  },
  {
   "cell_type": "markdown",
   "metadata": {
    "execution": {}
   },
   "source": [
    "We plot some images sampled with `train_sampler_biased` to observe the pattern described above where `shape` and `posX` are now correlated.  \n",
    "\n",
    "To better visualize the bias introduced, we will plot them with annotations that show, in red:  \n",
    "  -  the **edges** of each of the 3 `posX` sections, and\n",
    "  - the **center**, i.e. `(posX, posY)`, for each shape."
   ]
  },
  {
   "cell_type": "code",
   "execution_count": null,
   "metadata": {
    "execution": {}
   },
   "outputs": [],
   "source": [
    "print(\"Plotting first 20 images from the biased training dataset.\\n\")\n",
    "dSprites.show_images(indices=train_sampler_biased.indices[:20], annotations=\"posX_quadrants\")"
   ]
  },
  {
   "cell_type": "markdown",
   "metadata": {
    "execution": {}
   },
   "source": [
    "We also plot some images sampled with `train_sampler_bias_ctrl` to verify visually that this biased pattern does not appear in the control dataset.  \n",
    "\n",
    "Again, the annotations are added, **purely for visualization purposes**."
   ]
  },
  {
   "cell_type": "code",
   "execution_count": null,
   "metadata": {
    "execution": {}
   },
   "outputs": [],
   "source": [
    "print(\"Plotting sample images from the bias control training dataset.\\n\")\n",
    "dSprites.show_images(indices=train_sampler_bias_ctrl.indices[:20], annotations=\"posX_quadrants\")"
   ]
  },
  {
   "cell_type": "code",
   "execution_count": null,
   "metadata": {
    "cellView": "form",
    "execution": {}
   },
   "outputs": [],
   "source": [
    "# @markdown ### Function to run full training procedure\n",
    "# @markdown (from initializing and pretraining encoders to training classifiers):\n",
    "\n",
    "# @markdown `full_training_procedure(train_sampler, test_sampler)`\n",
    "\n",
    "def full_training_procedure(train_sampler, test_sampler, title=None,\n",
    "                            dataset_type=\"biased\", verbose=True):\n",
    "\n",
    "  if dataset_type not in [\"biased\", \"bias_ctrl\"]:\n",
    "    raise ValueError(\"Expected model_type to be 'biased' or 'bias_ctrl', \"\n",
    "                     f\"but found {model_type}.\")\n",
    "\n",
    "  supervised_encoder = models.EncoderCore()\n",
    "  random_encoder = models.EncoderCore()\n",
    "\n",
    "  # Load pre-trained VAE encoder\n",
    "  vae_encoder = load.load_encoder(\n",
    "      REPO_PATH, model_type=\"vae\", dataset_type=dataset_type,\n",
    "      verbose=verbose\n",
    "      )\n",
    "\n",
    "  # Load pre-trained SimCLR encoder\n",
    "  simclr_encoder = load.load_encoder(\n",
    "      REPO_PATH, model_type=\"simclr\", dataset_type=dataset_type,\n",
    "      verbose=verbose\n",
    "      )\n",
    "\n",
    "  encoders = [supervised_encoder, random_encoder, vae_encoder, simclr_encoder]\n",
    "  freeze_features = [False, True, True, True]\n",
    "  encoder_labels = [\"supervised\", \"random\", \"VAE\", \"SimCLR\"]\n",
    "\n",
    "  num_clf_epochs = [80, 30, 30, 30]\n",
    "  print(f\"\\nTraining supervised encoder and classifier for {num_clf_epochs[0]} \"\n",
    "    f\"epochs, and all other classifiers for {num_clf_epochs[1]} epochs each.\")\n",
    "  _ = models.train_encoder_clfs_by_fraction_labelled(\n",
    "      encoders=encoders,\n",
    "      dataset=dSprites_torchdataset,\n",
    "      train_sampler=train_sampler,\n",
    "      test_sampler=test_sampler,\n",
    "      num_epochs=num_clf_epochs,\n",
    "      freeze_features=freeze_features,\n",
    "      subset_seed=SEED,\n",
    "      encoder_labels=encoder_labels,\n",
    "      title=title,\n",
    "      verbose=verbose\n",
    "      )"
   ]
  },
  {
   "cell_type": "markdown",
   "metadata": {
    "execution": {}
   },
   "source": [
    "Here, we use a **biased training data sampler** (and unbiased control sampler) to observe how the different models perform. Because the dataset is much smaller, we increase the number of pre-trained and training epochs for the encoders and classifiers.\n",
    "\n",
    "Let us start with our **unbiased control sampler**, to get a sense of the classification performance levels we should expect with a dataset this size."
   ]
  },
  {
   "cell_type": "code",
   "execution_count": null,
   "metadata": {
    "execution": {}
   },
   "outputs": [],
   "source": [
    "# call this before any dataset/network initializing or training,\n",
    "# to ensure reproducibility\n",
    "set_seed(SEED)\n",
    "\n",
    "print(\"Training all models using the control, unbiased training dataset\\n\")\n",
    "full_training_procedure(\n",
    "    train_sampler_bias_ctrl, test_sampler_for_bias_ctrl,\n",
    "    title=\"Classifier performances with control, unbiased training dataset\",\n",
    "    dataset_type=\"bias_ctrl\" # for loading correct pre-trained networks\n",
    "    )"
   ]
  },
  {
   "cell_type": "markdown",
   "metadata": {
    "execution": {}
   },
   "source": [
    "A similar pattern is observed here as with the full dataset, though notably most performances are a bit weaker, likely due to us (A) using a smaller training dataset, and (B) training and pre-training for fewer iterations, considering the dataset size, for time-efficiency reasons.\n",
    "\n",
    "Using the same parameters, we now repeat the analysis with the **biased** training data sampler."
   ]
  },
  {
   "cell_type": "code",
   "execution_count": null,
   "metadata": {
    "execution": {}
   },
   "outputs": [],
   "source": [
    "# call this before any dataset/network initializing or training,\n",
    "# to ensure reproducibility\n",
    "set_seed(SEED)\n",
    "\n",
    "print(\"Training all models using the biased training dataset\\n\")\n",
    "full_training_procedure(\n",
    "    train_sampler_biased, test_sampler_for_biased,\n",
    "    title=\"Classifier performances with biased training dataset\",\n",
    "    dataset_type=\"biased\" # for loading correct pre-trained networks\n",
    "    )"
   ]
  },
  {
   "cell_type": "markdown",
   "metadata": {
    "execution": {}
   },
   "source": [
    "Interestingly, the SimCLR network encoder is not only the only network to perform well, it even outperforms its control performance (which uses the same test dataset), at least with this particular dataset and biasing.\n",
    "\n",
    "_**Note on performance improvement:** This improvement for the SimCLR encoder is reflected in the pre-training loss curves (not shown here), which show that the encoder trained with the biased dataset learns faster than the encoder trained with the unbiased training set. It is possible that the dataset biasing, by reducing the variability in the dataset, makes the contrastive task easier, thus enabling the network to learn a good feature space for the classification task in fewer epochs_"
   ]
  },
  {
   "cell_type": "markdown",
   "metadata": {
    "execution": {}
   },
   "source": [
    "### Discussion 7.1.1: How do different models cope with a biased training dataset?\n",
    "\n",
    "**A.** Which models are most and least affected by the biased training dataset?  \n",
    "**B.** Which types of images in the test set are most likely causing the observed drop in performance?  \n",
    "**C.** Why are certain models more robust to the bias introduced here than others?  \n",
    "**D.** What are some methods we can employ to help mitigate the negative effects of biases in our training sets on our ability to learn good data representations with our models?"
   ]
  },
  {
   "cell_type": "code",
   "execution_count": null,
   "metadata": {
    "execution": {}
   },
   "outputs": [],
   "source": [
    "# to_remove explanation\n",
    "\n",
    "\"\"\"\n",
    "A. The classifier trained with the supervised encoder is most affected by the\n",
    "    biased training dataset, which drops to chance performance.\n",
    "    In contrast, the classifier trained with the pre-trained SimCLR encoder\n",
    "    is least affected. Classifiers trained with the random or pre-trained VAE\n",
    "    encoders also drop to chance performance.\n",
    "\n",
    "B. It is likely that the drop in performance observed with the supervised\n",
    "   encoder is due to that fact that test set image distribution is poorly\n",
    "   represented by the training set image distribution. Indeed, certain\n",
    "   `shape`/`posX` combinations which exist in the test set do not appear at all\n",
    "   in the training set. As a result, it is likely that the classifier performs\n",
    "   very poorly when classifying squares on the right or hearts on the left,\n",
    "   as in the training set, all squares are on the left, and all hearts are\n",
    "   on the right. In fact, it is possible that the network picked up on this\n",
    "   biased relationship between `shape` and `posX` during training, and learned\n",
    "   to classify shapes almost exclusively from their position in X in the image.\n",
    "   Such a solution would generalize very poorly to the test set where this\n",
    "   biased relationship does not exist.\n",
    "\n",
    "C. The pre-trained SimCLR encoder is far more robust to this bias,\n",
    "   as its pre-training is not limited to the training set images. Indeed, since\n",
    "   it is trained on training set image augmentations, this forces the encoder\n",
    "   to learn a feature space that captures a much broader distribution of images\n",
    "   than exists in the training set alone. In this case, the data augmentations\n",
    "   directly ensure that the SimCLR encoder is robust to the specific type of\n",
    "   bias used, as they push the network to learn **representations that are\n",
    "   invariant to position in x** (and y). As a result, when the classifier is\n",
    "   trained on top of the pre-trained encoder with only the biased training set,\n",
    "   it is more likely to learn the appropriate mapping from the feature space to\n",
    "   shape, without interference from the correlated position information.\n",
    "\n",
    "D. From these examples, we can see how self-supervised learning, and\n",
    "   specifically data augmentation, has the potential to help mitigate the\n",
    "   negative effects of biases that exist in our training sets. However, it is\n",
    "   important to note that in this example, the dataset and classification task\n",
    "   are very simple, and we actually know exactly what the bias in the\n",
    "   training dataset is. This makes selecting appropriate data augmentations\n",
    "   quite simple. In real-world scenarios, it is not so obvious.\n",
    "   Some strategies for selecting good data augmentations in real-world\n",
    "   scenarios might include:\n",
    "    - identifying dimensions that a model should in theory be invariant to and\n",
    "      designing augmentations tailored to promote invariance to these dimensions,\n",
    "    - identifying **known sources** of bias, for example based on existing\n",
    "      research in psychology and sociology, and tailoring data augmentations to\n",
    "      these biases,\n",
    "    - designing biased training datasets to evaluate how robust models are to\n",
    "      these biases following training.\n",
    "\n",
    "Of course, in addition to mitigation strategies, it is critically important that\n",
    "we reduce biases at the source by improving data collection and dataset curation\n",
    "strategies.\n",
    "\"\"\";"
   ]
  },
  {
   "cell_type": "markdown",
   "metadata": {
    "execution": {}
   },
   "source": [
    "### Discussion 7.1.2: How do these principles apply more generally?\n",
    "\n",
    "We have seen now how self-supervised learning (SSL) can improve a network's ability to learn good representations of data. For the purposes of this tutorial, we presented examples with a **simplified dataset**: the dSprites dataset, where we know:  \n",
    "(1) the latent dimensions for all images,  \n",
    "(2) the joint probability distribution across latent dimensions for the full dataset, and  \n",
    "(3) the precise nature of the bias introduced into our biased dataset **(see Bonus 2 for more details)**. \n",
    "\n",
    "As a result, it is quite simple to design data augmentations that ensure that the pre-trained encoder will learn a good feature space for the downstream classification task.   \n",
    "<br>\n",
    "\n",
    "In real-world applications, with more complex or difficult datasets,   \n",
    "**A.** What principles can we draw on to successfully apply SSL to learn good data representations in feature space? For example,  \n",
    "**B.** What challenges might we face with new datasets, compared to applying SSL to dSprites?  \n",
    "**C.** What types of augmentations might we use when working with non visual datasets, e.g., a speech dataset.  \n",
    "<br>\n",
    "\n",
    "In addition, we primarily discussed **only one type of SSL, namely SimCLR**. However, many different types of SSL exist, some of which do not use explicit data augmentations.\n",
    "**D.** What type of SSL task could be implemented for **sequential or time series** data. For example, you might wish to predict from electrical brain recordings what stage of sleep a person is in. How might you use the knowledge that sleep stages change slowly in time to construct a useful SSL task?  "
   ]
  },
  {
   "cell_type": "code",
   "execution_count": null,
   "metadata": {
    "execution": {}
   },
   "outputs": [],
   "source": [
    "# to_remove explanation\n",
    "\n",
    "\"\"\"\n",
    "A.  A few examples of principles we can draw on to successfully apply\n",
    "    SSL to learning good data representations include:\n",
    "    - When limited labelled data is available, model pre-training\n",
    "      can greatly enhance the quality of the feature space a model learns.\n",
    "    - Data augmentations selection can be guided, at least in part,\n",
    "      by an understanding of both:\n",
    "      - the types of latent variables that underlie the data of interest\n",
    "      - the types of latent variables our encoder might need to learn as\n",
    "        features (e.g., shape, orientation) or become invariant to\n",
    "        (e.g., color, motion, scale) in order to perform well on specific\n",
    "        types of downstream tasks.\n",
    "\n",
    "B. A few examples of challenges that we might face include:\n",
    "    - Identifying useful data augmentations to learn good features for a more\n",
    "      complex dataset (e.g., a biosignal dataset, a speech dataset).\n",
    "    - Anticipating the types features that might be relevant to more complex\n",
    "      downstream tasks (e.g., detecting pathological biosignals, classifying\n",
    "      speaker identity).\n",
    "    - Allocating additional training time and resources, as SSL tasks are\n",
    "      typically more computationally demanding than their supervised\n",
    "      counterparts.\n",
    "\n",
    "C. When working with a non visual dataset, e.g., a speech dataset, different\n",
    "   types of augmentations are needed from the ones used in this tutorial. The\n",
    "   type of augmentations used will still depend on the downstream task of\n",
    "   interest, of course. If the downstream task of interest is something like\n",
    "   speech to text translation, it could be useful to learn representations\n",
    "   that are invariant to the pitch of a voice. So, one could design an\n",
    "   augmentation that randomly shifts the pitch of a speech sample. If the\n",
    "   downstream task is pitch sensitive, however, like speaker identification,\n",
    "   a different augmentation could be designed, like a time shift where two\n",
    "   samples close in time are positive pairs for each other.\n",
    "\n",
    "D. For sequential or time series data, one could use a very different type of\n",
    "   SSL task, like a predictive task. In such a task, a network could be trained\n",
    "   to predict the representation of time point t_2 from the representation of\n",
    "   time point t_1. In order to successfully accomplish this task of predicting\n",
    "   electrical brain activity representations sequentially, our network would\n",
    "   likely learn data representations that change gradually and predictably\n",
    "   in time. Since the stages of sleep also change gradually through time, this\n",
    "   network would have a good chance of being successful in downstream tasks\n",
    "   that rely on temporal features, like sleep staging. This type of\n",
    "   predictive SSL is applied in a more sophisticated way in algorithms like\n",
    "   Contrastive Predictive Coding (CPC), for example.\n",
    "\"\"\";"
   ]
  },
  {
   "cell_type": "markdown",
   "metadata": {
    "execution": {}
   },
   "source": [
    "---\n",
    "# Summary"
   ]
  },
  {
   "cell_type": "code",
   "execution_count": null,
   "metadata": {
    "cellView": "form",
    "execution": {}
   },
   "outputs": [],
   "source": [
    "# @title Video 8: Conclusion\n",
    "from ipywidgets import widgets\n",
    "\n",
    "out2 = widgets.Output()\n",
    "with out2:\n",
    "  from IPython.display import IFrame\n",
    "  class BiliVideo(IFrame):\n",
    "    def __init__(self, id, page=1, width=400, height=300, **kwargs):\n",
    "      self.id=id\n",
    "      src = \"https://player.bilibili.com/player.html?bvid={0}&page={1}\".format(id, page)\n",
    "      super(BiliVideo, self).__init__(src, width, height, **kwargs)\n",
    "\n",
    "  video = BiliVideo(id=f\"BV1Tq4y1X7e1\", width=854, height=480, fs=1)\n",
    "  print(\"Video available at https://www.bilibili.com/video/{0}\".format(video.id))\n",
    "  display(video)\n",
    "\n",
    "out1 = widgets.Output()\n",
    "with out1:\n",
    "  from IPython.display import YouTubeVideo\n",
    "  video = YouTubeVideo(id=f\"tvZzYfi_bTI\", width=854, height=480, fs=1, rel=0)\n",
    "  print(\"Video available at https://youtube.com/watch?v=\" + video.id)\n",
    "  display(video)\n",
    "\n",
    "out = widgets.Tab([out1, out2])\n",
    "out.set_title(0, 'Youtube')\n",
    "out.set_title(1, 'Bilibili')\n",
    "\n",
    "# add event to airtable\n",
    "atform.add_event('Video 8: Conclusion')\n",
    "\n",
    "display(out)"
   ]
  },
  {
   "cell_type": "code",
   "execution_count": null,
   "metadata": {
    "cellView": "form",
    "execution": {}
   },
   "outputs": [],
   "source": [
    "# @title Airtable Submission Link\n",
    "from IPython import display as IPydisplay\n",
    "IPydisplay.HTML(\n",
    "   f\"\"\"\n",
    " <div>\n",
    "   <a href= \"{atform.url()}\" target=\"_blank\">\n",
    "   <img src=\"https://github.com/NeuromatchAcademy/course-content-dl/blob/main/tutorials/static/SurveyButton.png?raw=1\"\n",
    " alt=\"button link end of day Survey\" style=\"width:410px\"></a>\n",
    "   </div>\"\"\" )"
   ]
  },
  {
   "cell_type": "markdown",
   "metadata": {
    "execution": {}
   },
   "source": [
    "---\n",
    "# Bonus 1: Self-supervised networks learn representation invariance\n",
    "\n",
    "*Time estimate: ~20mins*"
   ]
  },
  {
   "cell_type": "code",
   "execution_count": null,
   "metadata": {
    "cellView": "form",
    "execution": {}
   },
   "outputs": [],
   "source": [
    "# @title Video 9: Invariant Representations\n",
    "from ipywidgets import widgets\n",
    "\n",
    "out2 = widgets.Output()\n",
    "with out2:\n",
    "  from IPython.display import IFrame\n",
    "  class BiliVideo(IFrame):\n",
    "    def __init__(self, id, page=1, width=400, height=300, **kwargs):\n",
    "      self.id=id\n",
    "      src = \"https://player.bilibili.com/player.html?bvid={0}&page={1}\".format(id, page)\n",
    "      super(BiliVideo, self).__init__(src, width, height, **kwargs)\n",
    "\n",
    "  video = BiliVideo(id=f\"BV1Ry4y1L7Hz\", width=854, height=480, fs=1)\n",
    "  print(\"Video available at https://www.bilibili.com/video/{0}\".format(video.id))\n",
    "  display(video)\n",
    "\n",
    "out1 = widgets.Output()\n",
    "with out1:\n",
    "  from IPython.display import YouTubeVideo\n",
    "  video = YouTubeVideo(id=f\"f8FCk519-lI\", width=854, height=480, fs=1, rel=0)\n",
    "  print(\"Video available at https://youtube.com/watch?v=\" + video.id)\n",
    "  display(video)\n",
    "\n",
    "out = widgets.Tab([out1, out2])\n",
    "out.set_title(0, 'Youtube')\n",
    "out.set_title(1, 'Bilibili')\n",
    "\n",
    "# add event to airtable\n",
    "atform.add_event('Video 9: Invariant Representations')\n",
    "\n",
    "display(out)"
   ]
  },
  {
   "cell_type": "markdown",
   "metadata": {
    "execution": {}
   },
   "source": [
    "## Bonus 1.1: The effects of using data transformations on invariance in SimCLR network representations "
   ]
  },
  {
   "cell_type": "markdown",
   "metadata": {
    "execution": {}
   },
   "source": [
    "We now observe the effects of adding our data transformations on the invariance learned by a pre-trained SimCLR network encoder. "
   ]
  },
  {
   "cell_type": "markdown",
   "metadata": {
    "execution": {}
   },
   "source": [
    "### Bonus Interactive Demo 1.1.1: Visualizing the SimCLR network encoder RSMs, organized along different latent dimensions\n",
    "\n",
    "We will now compare the pre-trained SimCLR encoder network RSM to the previously generated encoder RSMs. \n",
    "\n",
    "Again, we pass `dSprites_torchdataset` instead of `dSprites_invariance_torchdataset`, as we are interested in the RSMs for the real dSprites images, and not their augmentations.\n",
    "\n",
    "**Interactive Demo:** Visualize the RSMs, organized along different latent dimensions (`\"scale\"`, `\"orientation\"`, `\"posX\"` or `\"posY\"`), and compare the patterns observed for the different encoder networks. (The original setting is `sorting_latent=\"shape\"`.)\n"
   ]
  },
  {
   "cell_type": "code",
   "execution_count": null,
   "metadata": {
    "execution": {}
   },
   "outputs": [],
   "source": [
    "sorting_latent = \"shape\" # DEMO: Try sorting by different latent dimensions\n",
    "print(\"Plotting RSMs...\")\n",
    "_ = models.plot_model_RSMs(\n",
    "    encoders=[supervised_encoder, vae_encoder, simclr_encoder],\n",
    "    dataset=dSprites_torchdataset,\n",
    "    sampler=test_sampler, # we want to see the representations on the held out test set\n",
    "    titles=[\"Supervised network encoder RSM\", \"VAE network encoder RSM\",\n",
    "            \"SimCLR network encoder RSM\"], # plot titles\n",
    "    sorting_latent=sorting_latent\n",
    "    )"
   ]
  },
  {
   "cell_type": "markdown",
   "metadata": {
    "execution": {}
   },
   "source": [
    "### Bonus Discussion 1.1.1: What can we conclude about the ability of contrastive models like SimCLR to construct a meaningful representation space?\n",
    "\n",
    "**A.** How do the pre-trained SimCLR encoder RSMs (sorted along different latent dimensions) compare to the supervised and pre-trained VAE encoder network RSMs?  \n",
    "**B.**  What explains these different RSMs?  \n",
    "**C.**  What advantages might some encoders have over others?  \n",
    "**D.**  Does a good performance by the SimCLR encoder on a contrastive task guarantee good performance on a downstream classification task?  \n",
    "**E.**  How might one modify the SimCLR encoder pre-training, for example, if the downstream task were to predict `orientation` instead of `shape`?  "
   ]
  },
  {
   "cell_type": "code",
   "execution_count": null,
   "metadata": {
    "execution": {}
   },
   "outputs": [],
   "source": [
    "# to_remove explanation\n",
    "\n",
    "\"\"\"\n",
    "A. The RSMs for the pre-trained SimCLR encoder show that it\n",
    "   **encodes `shape` almost as strongly** as the supervised encoder.\n",
    "   Unlike the supervised encoder, it also appears to encode `scale` quite strongly.\n",
    "   In addition, unlike the pre-trained VAE encoder, it does not appear to\n",
    "   encode position strongly.\n",
    "\n",
    "B. The RSM structures observed for the pre-trained SimCLR encoder strongly\n",
    "   reflect the transformations selected as augmentations during training.\n",
    "   Indeed, these augmentations are closely related to several of the original\n",
    "   latent dimensions used to sort the RSMs:\n",
    "    - `scale` for `scale`,\n",
    "    - `degrees` for `orientation`, and\n",
    "    - `translation` for `posX` and `posY`\n",
    "\n",
    "   This likely explains why almost no structure is visible in the RSMs sorted by\n",
    "   `orientation`, `posX` and `posY`: **the encoder was specifically trained to\n",
    "   ignore these features**, i.e. to learn a feature space that is invariant to\n",
    "   differences along these dimensions. As a result of this training,\n",
    "   the only original latent dimension left for the encoder to encode in\n",
    "   feature space was `shape`.\n",
    "   Interestingly, although the SimCLR encoder was also trained to ignore `scale`,\n",
    "   it converged on a solution to the contrastive task that still encodes\n",
    "   `scale` to some extent.\n",
    "\n",
    "C. The supervised encoder is likely the best encoder for tasks that rely on\n",
    "   distinguishing shapes similar to those in the dataset. The SimCLR encoder is\n",
    "   likely useful for tasks that rely on differentiating shape and/or scale.\n",
    "   Lastly, the VAE encoder is likely the most useful of the three for position\n",
    "   decoding, as well as image reconstruction, when paired with the VAE decoder\n",
    "   it was trained with.\n",
    "\n",
    "D. Good performance by a SimCLR encoder on a contrastive task does **not** guarantee\n",
    "   that the encoder will perform well on a downstream classification task.\n",
    "   The performance of the encoder on the contrastive task will likely only reflect\n",
    "    future classification performance if the contrastive task has been designed\n",
    "    in a way that **specifically promotes learning of a feature space that is\n",
    "    relevant to that downstream classification task**. For example, here the\n",
    "    contrastive task drove the encoder towards becoming invariant to all latent dimensions\n",
    "    other than shape, which is intuitively exactly what is needed for a shape\n",
    "    classification task.\n",
    "    If other, less relevant augmentations had been selected instead\n",
    "    (e.g., adding random noise or inverting the colors), an encoder with the\n",
    "    same amount of pre-training might have performed very poorly on the\n",
    "    downstream shape classification task.\n",
    "\n",
    "E. If we wanted to pre-train a SimCLR encoder to decode `orientation` instead of `shape`,\n",
    "   we would likely **remove the `degrees` augmentation**, as it drives the encoder\n",
    "   to become invariant to the different orientations of the shapes.\n",
    "   To support the network's ability to generalize to new shapes, we might want to\n",
    "   push the encoder to be more invariant to the `shape` dimension. To do this, we\n",
    "   might use some sort of **filter augmentation**, like a Gaussian, that slightly\n",
    "   distorts shape edges. However, such a shape distortion augmentation would probably\n",
    "   have to be applied **carefully** in order to avoid transforming all shapes into amorphous\n",
    "   blobs with no discernible orientation or making shapes appear like\n",
    "   **different shapes with totally different orientations.**\n",
    "   Indeed, since **orientation is at least partially determined from shape**, a\n",
    "   feature space that is good for predicting orientation will likely not be\n",
    "   entirely invariant to shape.\n",
    "\"\"\";"
   ]
  },
  {
   "cell_type": "code",
   "execution_count": null,
   "metadata": {
    "cellView": "form",
    "execution": {}
   },
   "outputs": [],
   "source": [
    "# @markdown ### Supporting images for Discussion response examples for Bonus 1.1.1: All SimCLR encoder RSMs\n",
    "\n",
    "Image(filename=os.path.join(REPO_PATH, \"images\", \"rsms_simclr_encoder_60ep_bs1000_deg90_trans0-2_scale0-8to1-2_seed2021.png\"), width=1000)"
   ]
  },
  {
   "cell_type": "markdown",
   "metadata": {
    "execution": {}
   },
   "source": [
    "---\n",
    "# Bonus 2: Avoiding representational collapse\n"
   ]
  },
  {
   "cell_type": "code",
   "execution_count": null,
   "metadata": {
    "cellView": "form",
    "execution": {}
   },
   "outputs": [],
   "source": [
    "# @title Video 10: Avoiding Representational Collapse\n",
    "from ipywidgets import widgets\n",
    "\n",
    "out2 = widgets.Output()\n",
    "with out2:\n",
    "  from IPython.display import IFrame\n",
    "  class BiliVideo(IFrame):\n",
    "    def __init__(self, id, page=1, width=400, height=300, **kwargs):\n",
    "      self.id=id\n",
    "      src = \"https://player.bilibili.com/player.html?bvid={0}&page={1}\".format(id, page)\n",
    "      super(BiliVideo, self).__init__(src, width, height, **kwargs)\n",
    "\n",
    "  video = BiliVideo(id=f\"BV1Gv411E7xe\", width=854, height=480, fs=1)\n",
    "  print(\"Video available at https://www.bilibili.com/video/{0}\".format(video.id))\n",
    "  display(video)\n",
    "\n",
    "out1 = widgets.Output()\n",
    "with out1:\n",
    "  from IPython.display import YouTubeVideo\n",
    "  video = YouTubeVideo(id=f\"fS2BAKVdpIY\", width=854, height=480, fs=1, rel=0)\n",
    "  print(\"Video available at https://youtube.com/watch?v=\" + video.id)\n",
    "  display(video)\n",
    "\n",
    "out = widgets.Tab([out1, out2])\n",
    "out.set_title(0, 'Youtube')\n",
    "out.set_title(1, 'Bilibili')\n",
    "\n",
    "# add event to airtable\n",
    "atform.add_event('Video 10: Avoiding Representational Collapse')\n",
    "\n",
    "display(out)"
   ]
  },
  {
   "cell_type": "markdown",
   "metadata": {
    "execution": {}
   },
   "source": [
    "## Bonus 2.1: The effects of reducing the number of negative examples used in the SimCLR contrastive loss"
   ]
  },
  {
   "cell_type": "markdown",
   "metadata": {
    "execution": {}
   },
   "source": [
    "As seen above in the contrastive loss implementation, a strategy used to train neural networks with contrastive losses is to use large batch sizes (here, we used 1,000 examples per batch), and to use the representations of different images in a batch as **each other's negative examples**. So with a batch size of 1,000, each image has one positive paired image (its paired augmentation), and 999 negative paired images (every image but itself, including its own paired augmentation, again). This enables the contrastive loss to obtain a good estimate of the full representational similarity distribution.  \n",
    "\n",
    "To observe the consequences of sampling using fewer negative examples in the contrastive loss, we use a pre-trained SimCLR network again. However, this one was pre-trained with a parameter called `neg_pairs` set to `2`. Under the hood, this parameter affects only the contrastive loss calculation, allowing it to use **only 2 of the total available negative pairs in a batch, for each image.**"
   ]
  },
  {
   "cell_type": "markdown",
   "metadata": {
    "execution": {}
   },
   "source": [
    "The following code:\n",
    "*    loads the parameters of a SimCLR network pre-trained on the SimCLR contrastive task, but with only 2 negative pairs used per image in the loss calculation, using `load.load_encoder()`,\n",
    "*    plots the RSMs of a few network encoders for comparison."
   ]
  },
  {
   "cell_type": "code",
   "execution_count": null,
   "metadata": {
    "execution": {}
   },
   "outputs": [],
   "source": [
    "# call this before any dataset/network initializing or training,\n",
    "# to ensure reproducibility\n",
    "set_seed(SEED)\n",
    "\n",
    "# Load SimCLR encoder pre-trained on the contrastive loss\n",
    "simclr_encoder_neg_pairs = load.load_encoder(\n",
    "    REPO_PATH, model_type=\"simclr\", neg_pairs=2\n",
    "    )"
   ]
  },
  {
   "cell_type": "markdown",
   "metadata": {
    "execution": {}
   },
   "source": [
    "### Bonus Coding Exercise 2.1.1: Visualizing the network encoder RSMs, organized along different latent dimensions, and plotting similarity histograms\n",
    "\n",
    "We will now compare the RSM for the pre-trained SimCLR encoder  trained with **only 2 negative pairs** to the normal pre-trained SimCLR network encoder and the random network encoder. To help us compare the representations learned by the normal and modified SimCLR encoders, we will plot a histogram of the values that make up both RSMs.\n",
    "\n",
    "**Exercise:** \n",
    "*    Visualize the RSMs, organized along the `shape` latent dimension, and compare the patterns observed for the different encoder networks.\n",
    "*    Plot a histogram of RSM values for the normal and 2-neg-pair SimCLR network encoders.  \n",
    "\n",
    "**Hint**: \n",
    "*    `models.plot_model_RSMs()` returns the **data matrices** calculated for each encoder's RSM, in order."
   ]
  },
  {
   "cell_type": "code",
   "execution_count": null,
   "metadata": {
    "execution": {}
   },
   "outputs": [],
   "source": [
    "def rsms_and_histogram_plot():\n",
    "  sorting_latent = \"shape\" # Exercise: Try sorting by different latent dimensions\n",
    "  # EXERCISE: Visualize RSMs for the normal SimCLR, 2-neg-pair SimCLR and random network encoders.\n",
    "  print(\"Plotting RSMs...\")\n",
    "  simclr_rsm, simclr_neg_pairs_rsm, random_rsm = models.plot_model_RSMs(\n",
    "      encoders=[simclr_encoder, simclr_encoder_neg_pairs, random_encoder],\n",
    "      dataset=dSprites_torchdataset,\n",
    "      sampler=test_sampler, # we want to see the representations on the held out test set\n",
    "      titles=[\"SimCLR network encoder RSM\",\n",
    "              f\"SimCLR network encoder RSM\\n(2 negative pairs per image used in loss calc.)\",\n",
    "              \"Random network encoder RSM\"], # plot titles\n",
    "      sorting_latent=sorting_latent\n",
    "      )\n",
    "  #################################################\n",
    "  # Fill in missing code below (...),\n",
    "  # then remove or comment the line below to test your implementation\n",
    "  raise NotImplementedError(\"Exercise: Plot histogram.\")\n",
    "  #################################################\n",
    "  # EXERCISE: Plot a histogram of RSM values for both SimCLR encoders.\n",
    "  plot_rsm_histogram(\n",
    "      [..., ...],\n",
    "      colors=[...],\n",
    "      labels=[..., ...],\n",
    "      nbins=100\n",
    "      )\n",
    "\n",
    "\n",
    "## Uncomment below to test your code\n",
    "# rsms_and_histogram_plot()"
   ]
  },
  {
   "cell_type": "code",
   "execution_count": null,
   "metadata": {
    "execution": {}
   },
   "outputs": [],
   "source": [
    "# to_remove solution\n",
    "def rsms_and_histogram_plot():\n",
    "  sorting_latent = \"shape\" # Exercise: Try sorting by different latent dimensions\n",
    "  # EXERCISE: Visualize RSMs for the normal SimCLR, 2-neg-pair SimCLR and random network encoders.\n",
    "  print(\"Plotting RSMs...\")\n",
    "  simclr_rsm, simclr_neg_pairs_rsm, random_rsm = models.plot_model_RSMs(\n",
    "      encoders=[simclr_encoder, simclr_encoder_neg_pairs, random_encoder],\n",
    "      dataset=dSprites_torchdataset,\n",
    "      sampler=test_sampler, # we want to see the representations on the held out test set\n",
    "      titles=[\"SimCLR network encoder RSM\",\n",
    "              f\"SimCLR network encoder RSM\\n(2 negative pairs per image used in loss calc.)\",\n",
    "              \"Random network encoder RSM\"], # plot titles\n",
    "      sorting_latent=sorting_latent\n",
    "      )\n",
    "  # EXERCISE: Plot a histogram of RSM values for both SimCLR encoders.\n",
    "  plot_rsm_histogram(\n",
    "      [simclr_neg_pairs_rsm, simclr_rsm],\n",
    "      colors=[\"royalblue\", \"gray\"],\n",
    "      labels=[\"few neg. pairs SimCLR RSM\", \"normal SimCLR RSM\"],\n",
    "      nbins=100\n",
    "      )\n",
    "\n",
    "## Uncomment below to test your code\n",
    "with plt.xkcd():\n",
    "  rsms_and_histogram_plot()"
   ]
  },
  {
   "cell_type": "markdown",
   "metadata": {
    "execution": {}
   },
   "source": [
    "### Bonus Discussion 2.1.1: What can we conclude about the importance of negative pairs in computing the contrastive loss for models like SimCLR?\n",
    "\n",
    "**A.**  How does changing the number of negative pairs affect the networks' RSMs?  \n",
    "**B.**  How is the shape classifier likely to perform when the encoder is pre-trained with very few negative pairs?  \n",
    "**C.**  What, intuitively, is the role of negative pairs in shaping the feature space that a contrastive model learns, and how does this role relate to the role of positive pairs?"
   ]
  },
  {
   "cell_type": "code",
   "execution_count": null,
   "metadata": {
    "execution": {}
   },
   "outputs": [],
   "source": [
    "# to_remove explanation\n",
    "\n",
    "\"\"\"\n",
    "A. As seen in the much yellower RSMs of the SimCLR encoder trained with only\n",
    "   2 negative pairs used in the contrastive loss, reducing the number of\n",
    "   negative pairs leads to a **substantial increase in the density of high\n",
    "   feature similarity values** (near 1). This is quantified in the histogram,\n",
    "   which shows that the probability density of similarity values above 0.5\n",
    "   increases considerably, with the density of values of almost 1 increasing\n",
    "   3-4x (from 1 to 3.5). If we look at the shape RSM, we see that this results\n",
    "   in a loss of the **distinction between squares and ovals** in feature space.\n",
    "   Interestingly, given that a few negative pairs are still included in the\n",
    "   contrastive loss, the observed increase in high similarity values is\n",
    "   counterbalanced by a concurrent increase in strongly negative similarity\n",
    "   values (near -1).\n",
    "\n",
    "B. The shape classifier is likely to still classify hearts reasonably well,\n",
    "   but to do a poor job of distinguishing ovals from squares.\n",
    "\n",
    "C. Negative pairs are used, in contrastive models like SimCLR, as a\n",
    "   **counterweight to positive pairs**. Indeed, if only positive pairs\n",
    "   were used to train a contrastive model, the network could settle on a\n",
    "   trivial solution: a **collapsed feature space where all or most images\n",
    "   are encoded identically**. Such a feature space would be entirely useless,\n",
    "   as it would not preserve any information about the input data. To prevent\n",
    "   this, it is important to ensure that while the network updates its weights\n",
    "   to encode positive pairs similarly, **it still generally encodes other,\n",
    "   randomly selected pairs of images distinctly**. The negative pairs are\n",
    "   therefore used to obtain an estimate of how distinctly the network would\n",
    "   encode random pairs of images. If this sample is too small\n",
    "   (as with our SimCLR encoder trained with a loss calculated\n",
    "   from only 2 negative pairs),\n",
    "   the estimate will likely not be representative at all. In this case,\n",
    "   although the network may still encode a few pairs as highly dissimilar,\n",
    "   it still runs the risk of learning a partially collapsed feature space,\n",
    "   as observed above. Our normal SimCLR encoder is trained with a loss calculated\n",
    "   from far more (999) negative pairs, and this enables it to learn a much more\n",
    "   distributed and meaningful feature space.\n",
    "\"\"\";"
   ]
  },
  {
   "cell_type": "code",
   "execution_count": null,
   "metadata": {
    "cellView": "form",
    "execution": {}
   },
   "outputs": [],
   "source": [
    "# @markdown ### Supporting images for Discussion response examples for Bonus 2.1.1: All SimCLR encoder (2 neg. pairs) RSMs\n",
    "\n",
    "Image(filename=os.path.join(REPO_PATH, \"images\", \"rsms_simclr_encoder_2neg_60ep_bs1000_deg90_trans0-2_scale0-8to1-2_seed2021.png\"), width=1000)"
   ]
  },
  {
   "cell_type": "markdown",
   "metadata": {
    "execution": {}
   },
   "source": [
    "### Bonus Interactive Demo 2.1.1: Evaluating the classification performance of a logistic regression trained on the representations produced by a SimCLR network encoder pre-trained with only a few negative pairs\n",
    "\n",
    "For the 2-neg-pair SimCLR encoder, as the encoder parameters have already been trained, they should again be kept frozen while the classifier is trained by setting `freeze_features=True`.  \n",
    "\n",
    "**Interactive Demo:** Try different numbers of epochs for which to train the classifier. (The original setting is `num_epochs=25`.)"
   ]
  },
  {
   "cell_type": "code",
   "execution_count": null,
   "metadata": {
    "execution": {}
   },
   "outputs": [],
   "source": [
    "# call this before any dataset/network initializing or training,\n",
    "# to ensure reproducibility\n",
    "set_seed(SEED)\n",
    "print(\"Training a classifier on the representations learned by the SimCLR \"\n",
    "      \"network encoder pre-trained\\nusing only 2 negative pairs per image \"\n",
    "      \"for the loss calculation...\")\n",
    "_, simclr_neg_pairs_loss_array, _, _ = models.train_classifier(\n",
    "  encoder=simclr_encoder_neg_pairs,\n",
    "  dataset=dSprites_torchdataset,\n",
    "  train_sampler=train_sampler,\n",
    "  test_sampler=test_sampler,\n",
    "  freeze_features=True, # keep the encoder frozen while training the classifier\n",
    "  num_epochs=50, # DEMO: try different numbers of epochs\n",
    "  verbose=True\n",
    "  )\n",
    "\n",
    "# Plot the loss array\n",
    "fig, ax = plt.subplots()\n",
    "ax.plot(simclr_neg_pairs_loss_array)\n",
    "ax.set_title((\"Loss of classifier trained on a SimCLR encoder\\n\"\n",
    "\"trained with 2 negative pairs only.\"))\n",
    "ax.set_xlabel(\"Epoch number\")\n",
    "_ = ax.set_ylabel(\"Training loss\")"
   ]
  },
  {
   "cell_type": "markdown",
   "metadata": {
    "execution": {}
   },
   "source": [
    "After dropping the number of negative pairs used per image in pre-training a SimCLR encoder, classification accuracy drops to 66.75% on the test dataset, even after 50 classifier training epochs. "
   ]
  },
  {
   "cell_type": "markdown",
   "metadata": {
    "execution": {}
   },
   "source": [
    "<b>Shape classification results using different feature encoders:\n",
    "\n",
    "| _Chance_ |  | None (raw data) | Supervised | Random | VAE | SimCLR | SimCLR (few neg.pairs) |\n",
    "| - | - | --- | --- | --- | --- | --- | --- |\n",
    "| _33.33%_ |  | 39.55% | 98.38% | 44.67% | 45.75% | 97.53% | 66.75% |"
   ]
  },
  {
   "cell_type": "markdown",
   "metadata": {
    "execution": {}
   },
   "source": [
    "---\n",
    "# Bonus 3: Good representations enable few-shot learning\n"
   ]
  },
  {
   "cell_type": "code",
   "execution_count": null,
   "metadata": {
    "cellView": "form",
    "execution": {}
   },
   "outputs": [],
   "source": [
    "# @title Video 11: Few-shot Supervised Learning\n",
    "from ipywidgets import widgets\n",
    "\n",
    "out2 = widgets.Output()\n",
    "with out2:\n",
    "  from IPython.display import IFrame\n",
    "  class BiliVideo(IFrame):\n",
    "    def __init__(self, id, page=1, width=400, height=300, **kwargs):\n",
    "      self.id=id\n",
    "      src = \"https://player.bilibili.com/player.html?bvid={0}&page={1}\".format(id, page)\n",
    "      super(BiliVideo, self).__init__(src, width, height, **kwargs)\n",
    "\n",
    "  video = BiliVideo(id=f\"BV1BP4y147fs\", width=854, height=480, fs=1)\n",
    "  print(\"Video available at https://www.bilibili.com/video/{0}\".format(video.id))\n",
    "  display(video)\n",
    "\n",
    "out1 = widgets.Output()\n",
    "with out1:\n",
    "  from IPython.display import YouTubeVideo\n",
    "  video = YouTubeVideo(id=f\"okrvQDeN2cc\", width=854, height=480, fs=1, rel=0)\n",
    "  print(\"Video available at https://youtube.com/watch?v=\" + video.id)\n",
    "  display(video)\n",
    "\n",
    "out = widgets.Tab([out1, out2])\n",
    "out.set_title(0, 'Youtube')\n",
    "out.set_title(1, 'Bilibili')\n",
    "\n",
    "# add event to airtable\n",
    "atform.add_event('Video 11: Few-shot Supervised Learning')\n",
    "\n",
    "display(out)"
   ]
  },
  {
   "cell_type": "markdown",
   "metadata": {
    "execution": {}
   },
   "source": [
    "## Bonus 3.1: The benefits of pre-training an encoder network in a few-short learning scenario, i.e., when only few labelled examples are available"
   ]
  },
  {
   "cell_type": "markdown",
   "metadata": {
    "execution": {}
   },
   "source": [
    "The toy dataset we have been using, **dSprites**, is thoroughly labelled along 5 different dimensions. However, this is not the case for many datasets. Some very large datasets may have few if any labels.\n",
    "\n",
    "One of our last steps is to examine how each of our models perform in such a case when only few labelled images are available for training. In this scenario, we will train classifiers on different fractions of the training data (between 0.01 and 1.0), and see how they perform on the test set. \n",
    "\n",
    "For the different types of encoder, this means:\n",
    "*    **Supervised encoder:** As the supervised encoder can only be trained with labels, we will start from random encoders and train them end-to-end on the classification task with the fraction of labelled images allowed.  \n",
    "_**Note on * symbol:** Given that that network is trained end-to-end, we will train it for more epochs, and mark it with \"\\*\" in the graphs._\n",
    "*    **Random encoder:** By definition, the random encoder is untrained.\n",
    "*    **VAE encoder**: As a generative model can be pre-trained on unlabelled data, we will use the VAE encoder pre-trained on the reconstruction task using the full dataset, before training the classifier layer with the fraction of labelled images allowed.\n",
    "*    **SimCLR encoder**: As an SSL model can be pre-trained on unlabelled data, we will use the SimCLR encoder pre-trained on the contrastive task using the full dataset, before training the classifier layer with the fraction of labelled images allowed.\n",
    "\n",
    "_**Note on number of training epochs:** The numbers of epochs are specified below for when the **full training dataset** is used. For each fraction of the dataset a classifier is trained on, the **number of training epochs is scaled up** to compensate for the drop in number of training examples. For example, if we specify 10 epochs for a model, the 0.1 fraction labelled classifier will be trained over ~30 epochs. Also, we use **slightly fewer epochs** than above, here, in the interest of time._"
   ]
  },
  {
   "cell_type": "markdown",
   "metadata": {
    "execution": {}
   },
   "source": [
    "### Bonus Interactive Demo 3.1.1: Training classifiers on different encoders, using only a fraction of the full labelled dataset\n",
    "\n",
    "In this demo, we select a few fractions (4 to 6) of the full labelled dataset with which to train the classifiers.\n",
    "\n",
    "**Interactive Demo:** Set `labelled_fractions` argument to a list of fractions (4 to 6 values between 0.01 and 1.0) with which to train classifiers for each encoder."
   ]
  },
  {
   "cell_type": "code",
   "execution_count": null,
   "metadata": {
    "execution": {}
   },
   "outputs": [],
   "source": [
    "# call this before any dataset/network initializing or training,\n",
    "# to ensure reproducibility\n",
    "set_seed(SEED)\n",
    "\n",
    "new_supervised_encoder = models.EncoderCore() # new, random supervised encoder\n",
    "\n",
    "_ = models.train_encoder_clfs_by_fraction_labelled(\n",
    "    encoders=[new_supervised_encoder, random_encoder, vae_encoder, simclr_encoder],\n",
    "    dataset=dSprites_torchdataset,\n",
    "    train_sampler=train_sampler,\n",
    "    test_sampler=test_sampler,\n",
    "    labelled_fractions=[0.01], # DEMO: select 4-6 fractions to run\n",
    "    num_epochs=[20, 8, 8, 8], # train the supervised network (end-to-end) for more epochs\n",
    "    freeze_features=[False, True, True, True], # only train new supervised network end-to-end\n",
    "    subset_seed=SEED,\n",
    "    encoder_labels=[\"supervised\", \"random\", \"VAE\", \"SimCLR\"],\n",
    "    title=\"Performance of classifiers trained\\nwith different network encoders\",\n",
    "    verbose=True\n",
    "    )"
   ]
  },
  {
   "cell_type": "markdown",
   "metadata": {
    "execution": {}
   },
   "source": [
    "### Bonus Discussion 3.1.1: What can we conclude the advantages and disadvantages of the different encoder network types under different conditions?\n",
    "\n",
    "**A.** Which models are most and least affected by how much labelled data is available?  \n",
    "**B.** What might explain why different models are affected differently? "
   ]
  },
  {
   "cell_type": "code",
   "execution_count": null,
   "metadata": {
    "execution": {}
   },
   "outputs": [],
   "source": [
    "# to_remove explanation\n",
    "\n",
    "\"\"\"\n",
    "A. The classifiers trained on top of the random and pre-trained VAE encoders\n",
    "   perform poorly (below 50%) on the shape classification task, regardless of\n",
    "   how much of the labelled data is available to train the classifier.\n",
    "   In contrast, the classifier trained on top of the pre-trained\n",
    "   **SimCLR encoder maintains a performance above 90%** even when it is\n",
    "   trained with only 5% of the total available labelled data. The classifier\n",
    "   trained along with the **supervised encoder is most heavily affected**, with\n",
    "   its performance dropping to about 45% when it is trained with only 5% of the\n",
    "   total available data.\n",
    "\n",
    "B. Since the **supervised encoder** cannot be trained with unlabelled data,\n",
    "   any reduction in the fraction of labelled data available effectively means a\n",
    "   reduction in number of training examples. If the number of training examples\n",
    "   available is quite small, the encoder may not be able to learn generalizable\n",
    "   features. In contrast, since the task used to train the **SimCLR encoder does\n",
    "   not require any labels**, the encoder can first be pre-trained on the full dataset\n",
    "   to learn generalizable features that are relevant to the downstream classification,\n",
    "   as was done in the previous sections. If this is successful, the classifier layer\n",
    "   training becomes relatively simple. Indeed, if the encoder already broadly decodes\n",
    "   shapes, the classifier layer needs only to learn to map shape-like feature\n",
    "   to the correct shape. As the results here show, such a simple task likely\n",
    "   requires far fewer training examples than training a full encoder network\n",
    "   and classifier from scratch. Importantly, this is not a trivial finding,\n",
    "   as shown by the overall poor shape classification performance of the\n",
    "   classifiers trained on the **random** and **pre-trained VAE** encoders.\n",
    "   The fact that increasing the number of labelled examples available barely\n",
    "   impacts their performance suggests that their features, in contrast to the\n",
    "   SimCLR encoder's features, are not very informative at all about shape.\n",
    "\"\"\";"
   ]
  },
  {
   "cell_type": "code",
   "execution_count": null,
   "metadata": {
    "cellView": "form",
    "execution": {}
   },
   "outputs": [],
   "source": [
    "# @markdown ### Supporting images for Discussion response examples for Bonus 3.1.1: Classifier performances for various fractions of labelled data\n",
    "\n",
    "Image(filename=os.path.join(REPO_PATH, \"images\", \"labelled_fractions.png\"), width=600)"
   ]
  }
 ],
 "metadata": {
  "accelerator": "GPU",
  "colab": {
   "collapsed_sections": [],
   "include_colab_link": true,
   "name": "W3D1_Tutorial1",
   "provenance": [],
   "toc_visible": true
  },
  "kernel": {
   "display_name": "Python 3",
   "language": "python",
   "name": "python3"
  },
  "kernelspec": {
   "display_name": "Python 3",
   "name": "python3"
  },
  "language_info": {
   "name": "python"
  }
 },
 "nbformat": 4,
 "nbformat_minor": 0
}
